{
 "cells": [
  {
   "cell_type": "code",
   "execution_count": 2,
   "metadata": {},
   "outputs": [],
   "source": [
    "import os"
   ]
  },
  {
   "cell_type": "code",
   "execution_count": 5,
   "metadata": {},
   "outputs": [],
   "source": [
    "current_dir = os.getcwd()"
   ]
  },
  {
   "cell_type": "code",
   "execution_count": 6,
   "metadata": {},
   "outputs": [
    {
     "data": {
      "text/plain": [
       "'/data/passala/git/Coexpressalog_Method_Development/shiny_for_proxy_paper'"
      ]
     },
     "execution_count": 6,
     "metadata": {},
     "output_type": "execute_result"
    }
   ],
   "source": [
    "current_dir"
   ]
  },
  {
   "cell_type": "code",
   "execution_count": 8,
   "metadata": {},
   "outputs": [],
   "source": [
    "file_list = os.listdir(current_dir+'/Species_species_gene_tables')"
   ]
  },
  {
   "cell_type": "code",
   "execution_count": 9,
   "metadata": {},
   "outputs": [
    {
     "data": {
      "text/plain": [
       "['apple_rice_lenient_coexpressalog_table.csv',\n",
       " 'apple_rice_moderate_coexpressalog_table.csv',\n",
       " 'apple_rice_stringent_coexpressalog_table.csv',\n",
       " 'apple_sorghum_lenient_coexpressalog_table.csv',\n",
       " 'apple_sorghum_moderate_coexpressalog_table.csv',\n",
       " 'apple_sorghum_stringent_coexpressalog_table.csv',\n",
       " 'apple_maize_lenient_coexpressalog_table.csv',\n",
       " 'apple_maize_moderate_coexpressalog_table.csv',\n",
       " 'apple_maize_stringent_coexpressalog_table.csv',\n",
       " 'apple_grape_lenient_coexpressalog_table.csv',\n",
       " 'apple_grape_moderate_coexpressalog_table.csv',\n",
       " 'apple_grape_stringent_coexpressalog_table.csv',\n",
       " 'apple_mustard_lenient_coexpressalog_table.csv',\n",
       " 'apple_mustard_moderate_coexpressalog_table.csv',\n",
       " 'apple_mustard_stringent_coexpressalog_table.csv',\n",
       " 'apple_soybean_lenient_coexpressalog_table.csv',\n",
       " 'apple_soybean_moderate_coexpressalog_table.csv',\n",
       " 'apple_soybean_stringent_coexpressalog_table.csv',\n",
       " 'apple_medicago_lenient_coexpressalog_table.csv',\n",
       " 'apple_medicago_moderate_coexpressalog_table.csv',\n",
       " 'apple_medicago_stringent_coexpressalog_table.csv',\n",
       " 'apple_tobacco_lenient_coexpressalog_table.csv',\n",
       " 'apple_tobacco_moderate_coexpressalog_table.csv',\n",
       " 'apple_tobacco_stringent_coexpressalog_table.csv',\n",
       " 'apple_potato_lenient_coexpressalog_table.csv',\n",
       " 'apple_potato_moderate_coexpressalog_table.csv',\n",
       " 'apple_potato_stringent_coexpressalog_table.csv',\n",
       " 'apple_arabidopsis_lenient_coexpressalog_table.csv',\n",
       " 'apple_arabidopsis_moderate_coexpressalog_table.csv',\n",
       " 'apple_arabidopsis_stringent_coexpressalog_table.csv',\n",
       " 'apple_brome_lenient_coexpressalog_table.csv',\n",
       " 'apple_brome_moderate_coexpressalog_table.csv',\n",
       " 'apple_brome_stringent_coexpressalog_table.csv',\n",
       " 'apple_tomato_lenient_coexpressalog_table.csv',\n",
       " 'apple_tomato_moderate_coexpressalog_table.csv',\n",
       " 'apple_tomato_stringent_coexpressalog_table.csv',\n",
       " 'rice_sorghum_lenient_coexpressalog_table.csv',\n",
       " 'rice_sorghum_moderate_coexpressalog_table.csv',\n",
       " 'rice_sorghum_stringent_coexpressalog_table.csv',\n",
       " 'rice_maize_lenient_coexpressalog_table.csv',\n",
       " 'rice_maize_moderate_coexpressalog_table.csv',\n",
       " 'rice_maize_stringent_coexpressalog_table.csv',\n",
       " 'rice_grape_lenient_coexpressalog_table.csv',\n",
       " 'rice_grape_moderate_coexpressalog_table.csv',\n",
       " 'rice_grape_stringent_coexpressalog_table.csv',\n",
       " 'rice_mustard_lenient_coexpressalog_table.csv',\n",
       " 'rice_mustard_moderate_coexpressalog_table.csv',\n",
       " 'rice_mustard_stringent_coexpressalog_table.csv',\n",
       " 'rice_soybean_lenient_coexpressalog_table.csv',\n",
       " 'rice_soybean_moderate_coexpressalog_table.csv',\n",
       " 'rice_soybean_stringent_coexpressalog_table.csv',\n",
       " 'rice_medicago_lenient_coexpressalog_table.csv',\n",
       " 'rice_medicago_moderate_coexpressalog_table.csv',\n",
       " 'rice_medicago_stringent_coexpressalog_table.csv',\n",
       " 'rice_tobacco_lenient_coexpressalog_table.csv',\n",
       " 'rice_tobacco_moderate_coexpressalog_table.csv',\n",
       " 'rice_tobacco_stringent_coexpressalog_table.csv',\n",
       " 'rice_potato_lenient_coexpressalog_table.csv',\n",
       " 'rice_potato_moderate_coexpressalog_table.csv',\n",
       " 'rice_potato_stringent_coexpressalog_table.csv',\n",
       " 'rice_arabidopsis_lenient_coexpressalog_table.csv',\n",
       " 'rice_arabidopsis_moderate_coexpressalog_table.csv',\n",
       " 'rice_arabidopsis_stringent_coexpressalog_table.csv',\n",
       " 'rice_brome_lenient_coexpressalog_table.csv',\n",
       " 'rice_brome_moderate_coexpressalog_table.csv',\n",
       " 'rice_brome_stringent_coexpressalog_table.csv',\n",
       " 'rice_tomato_lenient_coexpressalog_table.csv',\n",
       " 'rice_tomato_moderate_coexpressalog_table.csv',\n",
       " 'rice_tomato_stringent_coexpressalog_table.csv',\n",
       " 'sorghum_maize_lenient_coexpressalog_table.csv',\n",
       " 'sorghum_maize_moderate_coexpressalog_table.csv',\n",
       " 'sorghum_maize_stringent_coexpressalog_table.csv',\n",
       " 'sorghum_grape_lenient_coexpressalog_table.csv',\n",
       " 'sorghum_grape_moderate_coexpressalog_table.csv',\n",
       " 'sorghum_grape_stringent_coexpressalog_table.csv',\n",
       " 'sorghum_mustard_lenient_coexpressalog_table.csv',\n",
       " 'sorghum_mustard_moderate_coexpressalog_table.csv',\n",
       " 'sorghum_mustard_stringent_coexpressalog_table.csv',\n",
       " 'sorghum_soybean_lenient_coexpressalog_table.csv',\n",
       " 'sorghum_soybean_moderate_coexpressalog_table.csv',\n",
       " 'sorghum_soybean_stringent_coexpressalog_table.csv',\n",
       " 'sorghum_medicago_lenient_coexpressalog_table.csv',\n",
       " 'sorghum_medicago_moderate_coexpressalog_table.csv',\n",
       " 'sorghum_medicago_stringent_coexpressalog_table.csv',\n",
       " 'sorghum_tobacco_lenient_coexpressalog_table.csv',\n",
       " 'sorghum_tobacco_moderate_coexpressalog_table.csv',\n",
       " 'sorghum_tobacco_stringent_coexpressalog_table.csv',\n",
       " 'sorghum_potato_lenient_coexpressalog_table.csv',\n",
       " 'sorghum_potato_moderate_coexpressalog_table.csv',\n",
       " 'sorghum_potato_stringent_coexpressalog_table.csv',\n",
       " 'sorghum_arabidopsis_lenient_coexpressalog_table.csv',\n",
       " 'sorghum_arabidopsis_moderate_coexpressalog_table.csv',\n",
       " 'sorghum_arabidopsis_stringent_coexpressalog_table.csv',\n",
       " 'sorghum_brome_lenient_coexpressalog_table.csv',\n",
       " 'sorghum_brome_moderate_coexpressalog_table.csv',\n",
       " 'sorghum_brome_stringent_coexpressalog_table.csv',\n",
       " 'sorghum_tomato_lenient_coexpressalog_table.csv',\n",
       " 'sorghum_tomato_moderate_coexpressalog_table.csv',\n",
       " 'sorghum_tomato_stringent_coexpressalog_table.csv',\n",
       " 'maize_grape_lenient_coexpressalog_table.csv',\n",
       " 'maize_grape_moderate_coexpressalog_table.csv',\n",
       " 'maize_grape_stringent_coexpressalog_table.csv',\n",
       " 'maize_mustard_lenient_coexpressalog_table.csv',\n",
       " 'maize_mustard_moderate_coexpressalog_table.csv',\n",
       " 'maize_mustard_stringent_coexpressalog_table.csv',\n",
       " 'maize_soybean_lenient_coexpressalog_table.csv',\n",
       " 'maize_soybean_moderate_coexpressalog_table.csv',\n",
       " 'maize_soybean_stringent_coexpressalog_table.csv',\n",
       " 'maize_medicago_lenient_coexpressalog_table.csv',\n",
       " 'maize_medicago_moderate_coexpressalog_table.csv',\n",
       " 'maize_medicago_stringent_coexpressalog_table.csv',\n",
       " 'maize_tobacco_lenient_coexpressalog_table.csv',\n",
       " 'maize_tobacco_moderate_coexpressalog_table.csv',\n",
       " 'maize_tobacco_stringent_coexpressalog_table.csv',\n",
       " 'maize_potato_lenient_coexpressalog_table.csv',\n",
       " 'maize_potato_moderate_coexpressalog_table.csv',\n",
       " 'maize_potato_stringent_coexpressalog_table.csv',\n",
       " 'maize_arabidopsis_lenient_coexpressalog_table.csv',\n",
       " 'maize_arabidopsis_moderate_coexpressalog_table.csv',\n",
       " 'maize_arabidopsis_stringent_coexpressalog_table.csv',\n",
       " 'maize_brome_lenient_coexpressalog_table.csv',\n",
       " 'maize_brome_moderate_coexpressalog_table.csv',\n",
       " 'maize_brome_stringent_coexpressalog_table.csv',\n",
       " 'maize_tomato_lenient_coexpressalog_table.csv',\n",
       " 'maize_tomato_moderate_coexpressalog_table.csv',\n",
       " 'maize_tomato_stringent_coexpressalog_table.csv',\n",
       " 'grape_mustard_lenient_coexpressalog_table.csv',\n",
       " 'grape_mustard_moderate_coexpressalog_table.csv',\n",
       " 'grape_mustard_stringent_coexpressalog_table.csv',\n",
       " 'grape_soybean_lenient_coexpressalog_table.csv',\n",
       " 'grape_soybean_moderate_coexpressalog_table.csv',\n",
       " 'grape_soybean_stringent_coexpressalog_table.csv',\n",
       " 'grape_medicago_lenient_coexpressalog_table.csv',\n",
       " 'grape_medicago_moderate_coexpressalog_table.csv',\n",
       " 'grape_medicago_stringent_coexpressalog_table.csv',\n",
       " 'grape_tobacco_lenient_coexpressalog_table.csv',\n",
       " 'grape_tobacco_moderate_coexpressalog_table.csv',\n",
       " 'grape_tobacco_stringent_coexpressalog_table.csv',\n",
       " 'grape_potato_lenient_coexpressalog_table.csv',\n",
       " 'grape_potato_moderate_coexpressalog_table.csv',\n",
       " 'grape_potato_stringent_coexpressalog_table.csv',\n",
       " 'grape_arabidopsis_lenient_coexpressalog_table.csv',\n",
       " 'grape_arabidopsis_moderate_coexpressalog_table.csv',\n",
       " 'grape_arabidopsis_stringent_coexpressalog_table.csv',\n",
       " 'grape_brome_lenient_coexpressalog_table.csv',\n",
       " 'grape_brome_moderate_coexpressalog_table.csv',\n",
       " 'grape_brome_stringent_coexpressalog_table.csv',\n",
       " 'grape_tomato_lenient_coexpressalog_table.csv',\n",
       " 'grape_tomato_moderate_coexpressalog_table.csv',\n",
       " 'grape_tomato_stringent_coexpressalog_table.csv',\n",
       " 'mustard_soybean_lenient_coexpressalog_table.csv',\n",
       " 'mustard_soybean_moderate_coexpressalog_table.csv',\n",
       " 'mustard_soybean_stringent_coexpressalog_table.csv',\n",
       " 'mustard_medicago_lenient_coexpressalog_table.csv',\n",
       " 'mustard_medicago_moderate_coexpressalog_table.csv',\n",
       " 'mustard_medicago_stringent_coexpressalog_table.csv',\n",
       " 'mustard_tobacco_lenient_coexpressalog_table.csv',\n",
       " 'mustard_tobacco_moderate_coexpressalog_table.csv',\n",
       " 'mustard_tobacco_stringent_coexpressalog_table.csv',\n",
       " 'mustard_potato_lenient_coexpressalog_table.csv',\n",
       " 'mustard_potato_moderate_coexpressalog_table.csv',\n",
       " 'mustard_potato_stringent_coexpressalog_table.csv',\n",
       " 'mustard_arabidopsis_lenient_coexpressalog_table.csv',\n",
       " 'mustard_arabidopsis_moderate_coexpressalog_table.csv',\n",
       " 'mustard_arabidopsis_stringent_coexpressalog_table.csv',\n",
       " 'mustard_brome_lenient_coexpressalog_table.csv',\n",
       " 'mustard_brome_moderate_coexpressalog_table.csv',\n",
       " 'mustard_brome_stringent_coexpressalog_table.csv',\n",
       " 'mustard_tomato_lenient_coexpressalog_table.csv',\n",
       " 'mustard_tomato_moderate_coexpressalog_table.csv',\n",
       " 'mustard_tomato_stringent_coexpressalog_table.csv',\n",
       " 'soybean_medicago_lenient_coexpressalog_table.csv',\n",
       " 'soybean_medicago_moderate_coexpressalog_table.csv',\n",
       " 'soybean_medicago_stringent_coexpressalog_table.csv',\n",
       " 'soybean_tobacco_lenient_coexpressalog_table.csv',\n",
       " 'soybean_tobacco_moderate_coexpressalog_table.csv',\n",
       " 'soybean_tobacco_stringent_coexpressalog_table.csv',\n",
       " 'soybean_potato_lenient_coexpressalog_table.csv',\n",
       " 'soybean_potato_moderate_coexpressalog_table.csv',\n",
       " 'soybean_potato_stringent_coexpressalog_table.csv',\n",
       " 'soybean_arabidopsis_lenient_coexpressalog_table.csv',\n",
       " 'soybean_arabidopsis_moderate_coexpressalog_table.csv',\n",
       " 'soybean_arabidopsis_stringent_coexpressalog_table.csv',\n",
       " 'soybean_brome_lenient_coexpressalog_table.csv',\n",
       " 'soybean_brome_moderate_coexpressalog_table.csv',\n",
       " 'soybean_brome_stringent_coexpressalog_table.csv',\n",
       " 'soybean_tomato_lenient_coexpressalog_table.csv',\n",
       " 'soybean_tomato_moderate_coexpressalog_table.csv',\n",
       " 'soybean_tomato_stringent_coexpressalog_table.csv',\n",
       " 'medicago_tobacco_lenient_coexpressalog_table.csv',\n",
       " 'medicago_tobacco_moderate_coexpressalog_table.csv',\n",
       " 'medicago_tobacco_stringent_coexpressalog_table.csv',\n",
       " 'medicago_potato_lenient_coexpressalog_table.csv',\n",
       " 'medicago_potato_moderate_coexpressalog_table.csv',\n",
       " 'medicago_potato_stringent_coexpressalog_table.csv',\n",
       " 'medicago_arabidopsis_lenient_coexpressalog_table.csv',\n",
       " 'medicago_arabidopsis_moderate_coexpressalog_table.csv',\n",
       " 'medicago_arabidopsis_stringent_coexpressalog_table.csv',\n",
       " 'medicago_brome_lenient_coexpressalog_table.csv',\n",
       " 'medicago_brome_moderate_coexpressalog_table.csv',\n",
       " 'medicago_brome_stringent_coexpressalog_table.csv',\n",
       " 'medicago_tomato_lenient_coexpressalog_table.csv',\n",
       " 'medicago_tomato_moderate_coexpressalog_table.csv',\n",
       " 'medicago_tomato_stringent_coexpressalog_table.csv',\n",
       " 'tobacco_potato_lenient_coexpressalog_table.csv',\n",
       " 'tobacco_potato_moderate_coexpressalog_table.csv',\n",
       " 'tobacco_potato_stringent_coexpressalog_table.csv',\n",
       " 'tobacco_arabidopsis_lenient_coexpressalog_table.csv',\n",
       " 'tobacco_arabidopsis_moderate_coexpressalog_table.csv',\n",
       " 'tobacco_arabidopsis_stringent_coexpressalog_table.csv',\n",
       " 'tobacco_brome_lenient_coexpressalog_table.csv',\n",
       " 'tobacco_brome_moderate_coexpressalog_table.csv',\n",
       " 'tobacco_brome_stringent_coexpressalog_table.csv',\n",
       " 'tobacco_tomato_lenient_coexpressalog_table.csv',\n",
       " 'tobacco_tomato_moderate_coexpressalog_table.csv',\n",
       " 'tobacco_tomato_stringent_coexpressalog_table.csv',\n",
       " 'potato_arabidopsis_lenient_coexpressalog_table.csv',\n",
       " 'potato_arabidopsis_moderate_coexpressalog_table.csv',\n",
       " 'potato_arabidopsis_stringent_coexpressalog_table.csv',\n",
       " 'potato_brome_lenient_coexpressalog_table.csv',\n",
       " 'potato_brome_moderate_coexpressalog_table.csv',\n",
       " 'potato_brome_stringent_coexpressalog_table.csv',\n",
       " 'potato_tomato_lenient_coexpressalog_table.csv',\n",
       " 'potato_tomato_moderate_coexpressalog_table.csv',\n",
       " 'potato_tomato_stringent_coexpressalog_table.csv',\n",
       " 'arabidopsis_brome_lenient_coexpressalog_table.csv',\n",
       " 'arabidopsis_brome_moderate_coexpressalog_table.csv',\n",
       " 'arabidopsis_brome_stringent_coexpressalog_table.csv',\n",
       " 'arabidopsis_tomato_lenient_coexpressalog_table.csv',\n",
       " 'arabidopsis_tomato_moderate_coexpressalog_table.csv',\n",
       " 'arabidopsis_tomato_stringent_coexpressalog_table.csv',\n",
       " 'brome_tomato_lenient_coexpressalog_table.csv',\n",
       " 'brome_tomato_moderate_coexpressalog_table.csv',\n",
       " 'brome_tomato_stringent_coexpressalog_table.csv',\n",
       " 'tomato_brome_lenient_coexpressalog_table.csv',\n",
       " 'tomato_brome_moderate_coexpressalog_table.csv',\n",
       " 'tomato_brome_stringent_coexpressalog_table.csv']"
      ]
     },
     "execution_count": 9,
     "metadata": {},
     "output_type": "execute_result"
    }
   ],
   "source": [
    "file_list"
   ]
  },
  {
   "cell_type": "code",
   "execution_count": 18,
   "metadata": {},
   "outputs": [],
   "source": [
    "spec_1_filter = [i for i in file_list if 'apple' in i]\n",
    "spec_2_filter = [i for i in spec_1_filter if 'arabidopsis' in i]\n",
    "final_file = [i for i in spec_2_filter if 'lenient' in i]"
   ]
  },
  {
   "cell_type": "code",
   "execution_count": 22,
   "metadata": {},
   "outputs": [
    {
     "data": {
      "text/plain": [
       "'apple_arabidopsis_lenient_coexpressalog_table.csv'"
      ]
     },
     "execution_count": 22,
     "metadata": {},
     "output_type": "execute_result"
    }
   ],
   "source": [
    "final_file[0]\n"
   ]
  },
  {
   "cell_type": "code",
   "execution_count": 7,
   "metadata": {},
   "outputs": [
    {
     "data": {
      "text/plain": [
       "'/data/passala/git/Coexpressalog_Method_Development/shiny_for_proxy_paper'"
      ]
     },
     "execution_count": 7,
     "metadata": {},
     "output_type": "execute_result"
    }
   ],
   "source": [
    "path"
   ]
  },
  {
   "cell_type": "code",
   "execution_count": null,
   "metadata": {},
   "outputs": [],
   "source": []
  }
 ],
 "metadata": {
  "kernelspec": {
   "display_name": "Single_cell_data_fix",
   "language": "python",
   "name": "python3"
  },
  "language_info": {
   "codemirror_mode": {
    "name": "ipython",
    "version": 3
   },
   "file_extension": ".py",
   "mimetype": "text/x-python",
   "name": "python",
   "nbconvert_exporter": "python",
   "pygments_lexer": "ipython3",
   "version": "3.9.13"
  },
  "orig_nbformat": 4,
  "vscode": {
   "interpreter": {
    "hash": "7c4a923c2782415305cc89ecc77685f7a4b95b326e3fa1d4f46287355a63668f"
   }
  }
 },
 "nbformat": 4,
 "nbformat_minor": 2
}
