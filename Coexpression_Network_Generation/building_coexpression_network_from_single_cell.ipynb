{
 "cells": [
  {
   "cell_type": "code",
   "execution_count": 1,
   "metadata": {},
   "outputs": [],
   "source": [
    "import pandas as pd\n",
    "import scanpy as sc\n",
    "import h5py\n",
    "import numpy as np\n",
    "import anndata\n",
    "from metacells import tools\n",
    "from metacells import pipeline"
   ]
  },
  {
   "cell_type": "code",
   "execution_count": 2,
   "metadata": {},
   "outputs": [],
   "source": [
    "single_cell_h5py = h5py.File('/data/passala/Data_from_CoCoCoNet/single_cell_data/Ara_data.hdf5','r')\n",
    "list(single_cell_h5py.keys())\n",
    "col_data = single_cell_h5py['coldata']\n",
    "row_data = single_cell_h5py['rowdata']\n",
    "embedding_data = single_cell_h5py['embedding']\n",
    "normalized_counts = single_cell_h5py['normalized_counts']\n",
    "\n",
    "row_data_decoded = []\n",
    "\n",
    "for gene_name in row_data:\n",
    "    row_data_decoded.append(gene_name[0].decode())\n",
    "\n",
    "cell_type_number =[]\n",
    "study_number = []\n",
    "study_id = []\n",
    "batch_cluster = []\n",
    "meta_cluster = []\n",
    "umap_coordinates = []\n",
    "\n",
    "for cell_identity in col_data:\n",
    "    cell_type_number.append(cell_identity[0])  \n",
    "    study_number.append(cell_identity[1])\n",
    "    study_id.append(cell_identity[2])\n",
    "    batch_cluster.append(cell_identity[3])\n",
    "    meta_cluster.append(cell_identity[4])\n",
    "\n",
    "barcode_for_each_cell = [] \n",
    "for barcode in embedding_data:\n",
    "    barcode_for_each_cell.append(barcode[2])\n",
    "    current_umap_coordinates =[barcode[1],barcode[0]]\n",
    "    umap_coordinates.append(current_umap_coordinates)\n",
    "umap_coordinates = np.array(umap_coordinates)\n"
   ]
  },
  {
   "cell_type": "code",
   "execution_count": 3,
   "metadata": {},
   "outputs": [
    {
     "name": "stderr",
     "output_type": "stream",
     "text": [
      "/tmp/ipykernel_630735/2112258600.py:4: FutureWarning: X.dtype being converted to np.float32 from float64. In the next version of anndata (0.9) conversion will not be automatic. Pass dtype explicitly to avoid this warning. Pass `AnnData(X, dtype=X.dtype, ...)` to get the future behavour.\n",
      "  single_cell_arabidopsis_root_4_datasets = anndata.AnnData(X = normalized_counts[:],obs = obs_arabidop, var = vars_arabidop)\n"
     ]
    }
   ],
   "source": [
    "obs_arabidop = pd.DataFrame(index = barcode_for_each_cell, data = list(zip(cell_type_number,study_number,batch_cluster, meta_cluster)), columns = ['Cell Type','Study Number','Batch Cluster','Meta Cluster'] )\n",
    "\n",
    "vars_arabidop = pd.DataFrame(index = row_data_decoded)\n",
    "single_cell_arabidopsis_root_4_datasets = anndata.AnnData(X = normalized_counts[:],obs = obs_arabidop, var = vars_arabidop)\n",
    "single_cell_arabidopsis_root_4_datasets.obsm['X_umap'] = umap_coordinates\n",
    "umap_df = pd.DataFrame(data = single_cell_arabidopsis_root_4_datasets.obsm['X_umap'], columns = ['Axis 1','Axis 2'], index = barcode_for_each_cell)\n",
    "bad_values = umap_df.sort_values(by = 'Axis 1', ascending = False).head(6).index\n",
    "single_cell_arabidopsis_root_4_datasets.obs.loc[bad_values]\n",
    "good_obs = single_cell_arabidopsis_root_4_datasets.obs.loc[~single_cell_arabidopsis_root_4_datasets.obs.index.isin(bad_values)]\n",
    "single_cell_arabidopsis_root_4_datasets  = single_cell_arabidopsis_root_4_datasets[good_obs.index,:]"
   ]
  },
  {
   "cell_type": "code",
   "execution_count": 4,
   "metadata": {},
   "outputs": [],
   "source": [
    "arabi_cell_cycle = pd.read_csv('/data/passala/Collaborator_Data/Maize_arabi_Jack_Collab/arabi_cell_cycle_genes.csv')\n"
   ]
  },
  {
   "cell_type": "code",
   "execution_count": 5,
   "metadata": {},
   "outputs": [
    {
     "data": {
      "text/plain": [
       "View of AnnData object with n_obs × n_vars = 16635 × 22271\n",
       "    obs: 'Cell Type', 'Study Number', 'Batch Cluster', 'Meta Cluster'\n",
       "    obsm: 'X_umap'"
      ]
     },
     "execution_count": 5,
     "metadata": {},
     "output_type": "execute_result"
    }
   ],
   "source": [
    "single_cell_arabidopsis_root_4_datasets"
   ]
  },
  {
   "cell_type": "code",
   "execution_count": 6,
   "metadata": {},
   "outputs": [
    {
     "data": {
      "text/plain": [
       "matrix([[5.8552675, 0.       , 0.       , ..., 5.8552675, 0.       ,\n",
       "         0.       ],\n",
       "        [0.       , 0.       , 0.       , ..., 0.       , 0.       ,\n",
       "         0.       ],\n",
       "        [0.       , 0.       , 0.       , ..., 5.2714353, 0.       ,\n",
       "         0.       ],\n",
       "        ...,\n",
       "        [5.1976123, 0.       , 0.       , ..., 4.1099987, 0.       ,\n",
       "         0.       ],\n",
       "        [0.       , 4.5786586, 0.       , ..., 0.       , 0.       ,\n",
       "         0.       ],\n",
       "        [0.       , 3.337244 , 0.       , ..., 3.337244 , 0.       ,\n",
       "         0.       ]], dtype=float32)"
      ]
     },
     "execution_count": 6,
     "metadata": {},
     "output_type": "execute_result"
    }
   ],
   "source": [
    "np.asmatrix(single_cell_arabidopsis_root_4_datasets.X)"
   ]
  },
  {
   "cell_type": "code",
   "execution_count": 7,
   "metadata": {},
   "outputs": [
    {
     "name": "stderr",
     "output_type": "stream",
     "text": [
      "set unnamed.var[bursty_lonely_gene]: 0 true (0%) out of 22271 bools\n",
      "/home/passala/miniconda3/envs/Single_cell_data_fix/lib/python3.9/site-packages/metacells/utilities/annotation.py:1044: ImplicitModificationWarning: Trying to modify attribute `.var` of view, initializing view as actual.\n",
      "  adata.var[name] = data\n"
     ]
    }
   ],
   "source": [
    "tools.find_bursty_lonely_genes(single_cell_arabidopsis_root_4_datasets, random_seed= 201, min_gene_total= 0)"
   ]
  },
  {
   "cell_type": "code",
   "execution_count": 8,
   "metadata": {},
   "outputs": [],
   "source": [
    "cell_cycle_list = arabi_cell_cycle['Arabidopsis Genes'].to_list()"
   ]
  },
  {
   "cell_type": "code",
   "execution_count": 9,
   "metadata": {},
   "outputs": [
    {
     "name": "stderr",
     "output_type": "stream",
     "text": [
      "set unnamed.var[lateral_gene]: 237 true (1.064%) out of 22271 bools\n"
     ]
    }
   ],
   "source": [
    "pipeline.mark.mark_lateral_genes(single_cell_arabidopsis_root_4_datasets, lateral_gene_names = cell_cycle_list)"
   ]
  },
  {
   "cell_type": "code",
   "execution_count": 10,
   "metadata": {},
   "outputs": [
    {
     "name": "stderr",
     "output_type": "stream",
     "text": [
      "set unnamed.var[lateral_genes_module]: 9197 outliers (41.3%) and 13074 grouped (58.7%) out of 22271 int32 elements with 323 groups with mean size 40.48\n",
      "set unnamed.varp[lateral_genes_similarity]: csr_matrix 22271 X 22271 float32s (170929476 > 0, 34.46%)\n"
     ]
    }
   ],
   "source": [
    "pipeline.related_genes.relate_to_lateral_genes(single_cell_arabidopsis_root_4_datasets)"
   ]
  },
  {
   "cell_type": "code",
   "execution_count": 11,
   "metadata": {},
   "outputs": [
    {
     "data": {
      "text/html": [
       "<div>\n",
       "<style scoped>\n",
       "    .dataframe tbody tr th:only-of-type {\n",
       "        vertical-align: middle;\n",
       "    }\n",
       "\n",
       "    .dataframe tbody tr th {\n",
       "        vertical-align: top;\n",
       "    }\n",
       "\n",
       "    .dataframe thead th {\n",
       "        text-align: right;\n",
       "    }\n",
       "</style>\n",
       "<table border=\"1\" class=\"dataframe\">\n",
       "  <thead>\n",
       "    <tr style=\"text-align: right;\">\n",
       "      <th></th>\n",
       "      <th>bursty_lonely_gene</th>\n",
       "      <th>lateral_gene</th>\n",
       "      <th>lateral_genes_module</th>\n",
       "    </tr>\n",
       "  </thead>\n",
       "  <tbody>\n",
       "    <tr>\n",
       "      <th>AT1G01010</th>\n",
       "      <td>False</td>\n",
       "      <td>False</td>\n",
       "      <td>302</td>\n",
       "    </tr>\n",
       "    <tr>\n",
       "      <th>AT1G01020</th>\n",
       "      <td>False</td>\n",
       "      <td>False</td>\n",
       "      <td>145</td>\n",
       "    </tr>\n",
       "    <tr>\n",
       "      <th>AT1G01030</th>\n",
       "      <td>False</td>\n",
       "      <td>False</td>\n",
       "      <td>248</td>\n",
       "    </tr>\n",
       "    <tr>\n",
       "      <th>AT1G01040</th>\n",
       "      <td>False</td>\n",
       "      <td>False</td>\n",
       "      <td>70</td>\n",
       "    </tr>\n",
       "    <tr>\n",
       "      <th>AT1G01050</th>\n",
       "      <td>False</td>\n",
       "      <td>False</td>\n",
       "      <td>186</td>\n",
       "    </tr>\n",
       "    <tr>\n",
       "      <th>...</th>\n",
       "      <td>...</td>\n",
       "      <td>...</td>\n",
       "      <td>...</td>\n",
       "    </tr>\n",
       "    <tr>\n",
       "      <th>ATCG01110</th>\n",
       "      <td>False</td>\n",
       "      <td>False</td>\n",
       "      <td>-1</td>\n",
       "    </tr>\n",
       "    <tr>\n",
       "      <th>ATCG01120</th>\n",
       "      <td>False</td>\n",
       "      <td>False</td>\n",
       "      <td>-1</td>\n",
       "    </tr>\n",
       "    <tr>\n",
       "      <th>ATCG01130</th>\n",
       "      <td>False</td>\n",
       "      <td>False</td>\n",
       "      <td>17</td>\n",
       "    </tr>\n",
       "    <tr>\n",
       "      <th>ATCG01230</th>\n",
       "      <td>False</td>\n",
       "      <td>False</td>\n",
       "      <td>-1</td>\n",
       "    </tr>\n",
       "    <tr>\n",
       "      <th>ATCG01310</th>\n",
       "      <td>False</td>\n",
       "      <td>False</td>\n",
       "      <td>-1</td>\n",
       "    </tr>\n",
       "  </tbody>\n",
       "</table>\n",
       "<p>22271 rows × 3 columns</p>\n",
       "</div>"
      ],
      "text/plain": [
       "           bursty_lonely_gene  lateral_gene  lateral_genes_module\n",
       "AT1G01010               False         False                   302\n",
       "AT1G01020               False         False                   145\n",
       "AT1G01030               False         False                   248\n",
       "AT1G01040               False         False                    70\n",
       "AT1G01050               False         False                   186\n",
       "...                       ...           ...                   ...\n",
       "ATCG01110               False         False                    -1\n",
       "ATCG01120               False         False                    -1\n",
       "ATCG01130               False         False                    17\n",
       "ATCG01230               False         False                    -1\n",
       "ATCG01310               False         False                    -1\n",
       "\n",
       "[22271 rows x 3 columns]"
      ]
     },
     "execution_count": 11,
     "metadata": {},
     "output_type": "execute_result"
    }
   ],
   "source": [
    "single_cell_arabidopsis_root_4_datasets.var"
   ]
  },
  {
   "cell_type": "code",
   "execution_count": 12,
   "metadata": {},
   "outputs": [
    {
     "name": "stderr",
     "output_type": "stream",
     "text": [
      "set unnamed.var[selected_gene]: * -> False\n",
      "set unnamed.var[rare_gene]: 10 true (0.0449%) out of 22271 bools\n",
      "set unnamed.var[rare_gene_module]: 22261 outliers (99.96%) and 10 grouped (0.0449%) out of 22271 int32 elements with 1 groups with mean size 10\n",
      "set unnamed.obs[cells_rare_gene_module]: 16553 outliers (99.51%) and 82 grouped (0.4929%) out of 16635 int32 elements with 1 groups with mean size 82\n",
      "set unnamed.obs[rare_cell]: 82 true (0.4929%) out of 16635 bools\n"
     ]
    }
   ],
   "source": [
    "pipeline.divide_and_conquer_pipeline(single_cell_arabidopsis_root_4_datasets, random_seed= 101)"
   ]
  },
  {
   "cell_type": "code",
   "execution_count": null,
   "metadata": {},
   "outputs": [],
   "source": []
  }
 ],
 "metadata": {
  "kernelspec": {
   "display_name": "Single_cell_data_fix",
   "language": "python",
   "name": "python3"
  },
  "language_info": {
   "codemirror_mode": {
    "name": "ipython",
    "version": 3
   },
   "file_extension": ".py",
   "mimetype": "text/x-python",
   "name": "python",
   "nbconvert_exporter": "python",
   "pygments_lexer": "ipython3",
   "version": "3.9.13"
  },
  "orig_nbformat": 4
 },
 "nbformat": 4,
 "nbformat_minor": 2
}
