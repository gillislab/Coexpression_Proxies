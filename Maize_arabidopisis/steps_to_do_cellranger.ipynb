{
 "cells": [
  {
   "cell_type": "markdown",
   "metadata": {},
   "source": [
    "Step 1- Download files from paper\n",
    " \n",
    "Step 1.5 - dump SRA \n",
    "\n",
    "export PATH=$PATH:/home/passala/Tarballs/sra_tools/sratoolkit.3.0.0-centos_linux64/bin\n",
    "\n",
    "fasterq-dump --split-files -O /data/passala/Collaborator_Data/GEO_sourced_single_cell_for_CRUSH/Arabidopsis/dev_cell_paper/SRA SRR8485805.sra\n",
    "\n",
    "\n",
    "Step 2.5 enable cellranger commands \n",
    "\n",
    "export PATH=/home/passala/Cell_ranger/cellranger-7.0.0:$PATH \n",
    "\n",
    "Step 2.75 Enable conda Genomealign\n",
    "\n",
    "Step 2- Make reference \n",
    "\n",
    "  cellranger mkref --genome Oryza_sativa --fasta=/data/passala/Genomes/Oryza_sativa_japonica_NCBI_ref/GCF_001433935.1_IRGSP-1.0_genomic.fna --genes=/data/passala/Genomes/Oryza_sativa_japonica_NCBI_ref/rice_annotation.gtf\n",
    "\n",
    "  May need to do if not in gtf format\n",
    "\n",
    "  conda create -y -n conv-gb-to-gtf -c conda-forge -c bioconda -c defaults perl-bioperl perl-lwp-protocol-https gffread\n",
    "\n",
    "  conda activate conv-gb-to-gtf\n",
    "\n",
    "  bp_genbank2gff3 GCA_000008865.2_ASM886v2_genomic.gbff\n",
    "\n",
    "  gffread GCA_000008865.2_ASM886v2_genomic.gbff.gff -T -o GCA_000008865.2_ASM886v2_genomic.gtff\n",
    "\n",
    "  May need to do if throws \"gene id\" error\n",
    "\n",
    "  agat_sp_manage_attributes.pl -gff GCF_001433935.1_IRGSP-1.0_genomic.gtf --att product/gene_id --cp --overwrite\n",
    "\n",
    "Step 3- Rename SRR files \n",
    "\n",
    "example \n",
    "\n",
    " mv SRR15686117_1.fastq SRR15686117_S1_L001_R1_001.fastq\n",
    "\n",
    " Step 4- Run count function\n",
    "cellranger count --id=testsra --sample=SRR15686117 --fastqs=/data/passala/Collaborator_Data/GEO_sourced_single_cell_for_CRUSH/Maize_nitrate_root_SC/Cell_ranger_Fastq --transcriptome=/data/passala/Genomes/Zea_mays_cell_ranger/Zea_mays\n",
    "\n",
    "\n",
    "\n",
    "Critical to figuring it out: https://bioinformaticsworkbook.org/dataAnalysis/RNA-Seq/Single_Cell_RNAseq/Chromium_Cell_Ranger.html#gsc.tab=0\n"
   ]
  },
  {
   "cell_type": "markdown",
   "metadata": {},
   "source": []
  },
  {
   "cell_type": "markdown",
   "metadata": {},
   "source": [
    "test edit"
   ]
  },
  {
   "cell_type": "markdown",
   "metadata": {},
   "source": []
  }
 ],
 "metadata": {
  "kernelspec": {
   "display_name": "Python 3.7.7 ('base': conda)",
   "language": "python",
   "name": "python3"
  },
  "language_info": {
   "name": "python",
   "version": "3.7.7"
  },
  "orig_nbformat": 4,
  "vscode": {
   "interpreter": {
    "hash": "e6654a85238c133fef59b371c1eaea3b64a7d189f63636639ce3d928de792f1f"
   }
  }
 },
 "nbformat": 4,
 "nbformat_minor": 2
}
