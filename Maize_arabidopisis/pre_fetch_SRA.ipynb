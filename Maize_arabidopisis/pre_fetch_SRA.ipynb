{
 "cells": [
  {
   "cell_type": "code",
   "execution_count": null,
   "metadata": {},
   "outputs": [
    {
     "ename": "",
     "evalue": "",
     "output_type": "error",
     "traceback": [
      "\u001b[1;31mRunning cells with 'Python 2.7.15 ('Genomealign': conda)' requires ipykernel package.\n",
      "Run the following command to install 'ipykernel' into the Python environment. \n",
      "Command: 'conda install -n Genomealign ipykernel --update-deps --force-reinstall'"
     ]
    }
   ],
   "source": [
    "import subprocess\n"
   ]
  },
  {
   "cell_type": "code",
   "execution_count": 4,
   "metadata": {},
   "outputs": [],
   "source": [
    "# prefetch = 'prefetch ' + 'SRR15686120'\n",
    "# subprocess.call(prefetch, shell = True)"
   ]
  },
  {
   "cell_type": "code",
   "execution_count": 5,
   "metadata": {},
   "outputs": [
    {
     "name": "stdout",
     "output_type": "stream",
     "text": [
      "Currently downloading: SRR11194113\n",
      "The command used was: prefetch SRR11194113\n",
      "Currently downloading: SRR11194114\n",
      "The command used was: prefetch SRR11194114\n"
     ]
    },
    {
     "name": "stderr",
     "output_type": "stream",
     "text": [
      "/bin/sh: prefetch: command not found\n",
      "/bin/sh: prefetch: command not found\n"
     ]
    }
   ],
   "source": [
    "sra_numbers = [\n",
    "    \"SRR11194113\", \"SRR11194114\"\n",
    "    ]\n",
    "\n",
    "# this will download the .sra files to ~/ncbi/public/sra/ (will create directory if not present)\n",
    "for sra_id in sra_numbers:\n",
    "    print (\"Currently downloading: \" + sra_id)\n",
    "    prefetch = \"prefetch \" + sra_id\n",
    "    print (\"The command used was: \" + prefetch)\n",
    "    subprocess.call(prefetch, shell=True)"
   ]
  },
  {
   "cell_type": "code",
   "execution_count": 4,
   "metadata": {},
   "outputs": [
    {
     "name": "stdout",
     "output_type": "stream",
     "text": [
      "Generating fastq for: SRR15686118\n",
      "The command used was: fastq-dump --outdir /data/passala/Collaborator_Data/GEO_sourced_single_cell_for_CRUSH/Maize_nitrate_root_SC/Fastq_dump_location_for_maize_runs --skip-technical  --readids --read-filter pass --dumpbase --split-3 --clip /data/passala/Collaborator_Data/GEO_sourced_single_cell_for_CRUSH/Maize_nitrate_root_SC/sra/SRR15686118.sra\n",
      "Read 115342675 spots for /data/passala/Collaborator_Data/GEO_sourced_single_cell_for_CRUSH/Maize_nitrate_root_SC/sra/SRR15686118.sra\n",
      "Written 115342675 spots for /data/passala/Collaborator_Data/GEO_sourced_single_cell_for_CRUSH/Maize_nitrate_root_SC/sra/SRR15686118.sra\n",
      "Generating fastq for: SRR15686119\n",
      "The command used was: fastq-dump --outdir /data/passala/Collaborator_Data/GEO_sourced_single_cell_for_CRUSH/Maize_nitrate_root_SC/Fastq_dump_location_for_maize_runs --skip-technical  --readids --read-filter pass --dumpbase --split-3 --clip /data/passala/Collaborator_Data/GEO_sourced_single_cell_for_CRUSH/Maize_nitrate_root_SC/sra/SRR15686119.sra\n",
      "Read 159061753 spots for /data/passala/Collaborator_Data/GEO_sourced_single_cell_for_CRUSH/Maize_nitrate_root_SC/sra/SRR15686119.sra\n",
      "Written 159061753 spots for /data/passala/Collaborator_Data/GEO_sourced_single_cell_for_CRUSH/Maize_nitrate_root_SC/sra/SRR15686119.sra\n",
      "Generating fastq for: SRR15686120\n",
      "The command used was: fastq-dump --outdir /data/passala/Collaborator_Data/GEO_sourced_single_cell_for_CRUSH/Maize_nitrate_root_SC/Fastq_dump_location_for_maize_runs --skip-technical  --readids --read-filter pass --dumpbase --split-3 --clip /data/passala/Collaborator_Data/GEO_sourced_single_cell_for_CRUSH/Maize_nitrate_root_SC/sra/SRR15686120.sra\n",
      "Read 135796357 spots for /data/passala/Collaborator_Data/GEO_sourced_single_cell_for_CRUSH/Maize_nitrate_root_SC/sra/SRR15686120.sra\n",
      "Written 135796357 spots for /data/passala/Collaborator_Data/GEO_sourced_single_cell_for_CRUSH/Maize_nitrate_root_SC/sra/SRR15686120.sra\n",
      "Generating fastq for: SRR15686121\n",
      "The command used was: fastq-dump --outdir /data/passala/Collaborator_Data/GEO_sourced_single_cell_for_CRUSH/Maize_nitrate_root_SC/Fastq_dump_location_for_maize_runs --skip-technical  --readids --read-filter pass --dumpbase --split-3 --clip /data/passala/Collaborator_Data/GEO_sourced_single_cell_for_CRUSH/Maize_nitrate_root_SC/sra/SRR15686121.sra\n",
      "Read 16132872 spots for /data/passala/Collaborator_Data/GEO_sourced_single_cell_for_CRUSH/Maize_nitrate_root_SC/sra/SRR15686121.sra\n",
      "Written 16132872 spots for /data/passala/Collaborator_Data/GEO_sourced_single_cell_for_CRUSH/Maize_nitrate_root_SC/sra/SRR15686121.sra\n",
      "Generating fastq for: SRR15686122\n",
      "The command used was: fastq-dump --outdir /data/passala/Collaborator_Data/GEO_sourced_single_cell_for_CRUSH/Maize_nitrate_root_SC/Fastq_dump_location_for_maize_runs --skip-technical  --readids --read-filter pass --dumpbase --split-3 --clip /data/passala/Collaborator_Data/GEO_sourced_single_cell_for_CRUSH/Maize_nitrate_root_SC/sra/SRR15686122.sra\n",
      "Read 19311792 spots for /data/passala/Collaborator_Data/GEO_sourced_single_cell_for_CRUSH/Maize_nitrate_root_SC/sra/SRR15686122.sra\n",
      "Written 19311792 spots for /data/passala/Collaborator_Data/GEO_sourced_single_cell_for_CRUSH/Maize_nitrate_root_SC/sra/SRR15686122.sra\n",
      "Generating fastq for: SRR15686123\n",
      "The command used was: fastq-dump --outdir /data/passala/Collaborator_Data/GEO_sourced_single_cell_for_CRUSH/Maize_nitrate_root_SC/Fastq_dump_location_for_maize_runs --skip-technical  --readids --read-filter pass --dumpbase --split-3 --clip /data/passala/Collaborator_Data/GEO_sourced_single_cell_for_CRUSH/Maize_nitrate_root_SC/sra/SRR15686123.sra\n",
      "Read 26401234 spots for /data/passala/Collaborator_Data/GEO_sourced_single_cell_for_CRUSH/Maize_nitrate_root_SC/sra/SRR15686123.sra\n",
      "Written 26401234 spots for /data/passala/Collaborator_Data/GEO_sourced_single_cell_for_CRUSH/Maize_nitrate_root_SC/sra/SRR15686123.sra\n",
      "Generating fastq for: SRR15686124\n",
      "The command used was: fastq-dump --outdir /data/passala/Collaborator_Data/GEO_sourced_single_cell_for_CRUSH/Maize_nitrate_root_SC/Fastq_dump_location_for_maize_runs --skip-technical  --readids --read-filter pass --dumpbase --split-3 --clip /data/passala/Collaborator_Data/GEO_sourced_single_cell_for_CRUSH/Maize_nitrate_root_SC/sra/SRR15686124.sra\n",
      "Read 22572910 spots for /data/passala/Collaborator_Data/GEO_sourced_single_cell_for_CRUSH/Maize_nitrate_root_SC/sra/SRR15686124.sra\n",
      "Written 22572910 spots for /data/passala/Collaborator_Data/GEO_sourced_single_cell_for_CRUSH/Maize_nitrate_root_SC/sra/SRR15686124.sra\n",
      "Generating fastq for: SRR15686125\n",
      "The command used was: fastq-dump --outdir /data/passala/Collaborator_Data/GEO_sourced_single_cell_for_CRUSH/Maize_nitrate_root_SC/Fastq_dump_location_for_maize_runs --skip-technical  --readids --read-filter pass --dumpbase --split-3 --clip /data/passala/Collaborator_Data/GEO_sourced_single_cell_for_CRUSH/Maize_nitrate_root_SC/sra/SRR15686125.sra\n",
      "Read 76015149 spots for /data/passala/Collaborator_Data/GEO_sourced_single_cell_for_CRUSH/Maize_nitrate_root_SC/sra/SRR15686125.sra\n",
      "Written 76015149 spots for /data/passala/Collaborator_Data/GEO_sourced_single_cell_for_CRUSH/Maize_nitrate_root_SC/sra/SRR15686125.sra\n",
      "Generating fastq for: SRR15686126\n",
      "The command used was: fastq-dump --outdir /data/passala/Collaborator_Data/GEO_sourced_single_cell_for_CRUSH/Maize_nitrate_root_SC/Fastq_dump_location_for_maize_runs --skip-technical  --readids --read-filter pass --dumpbase --split-3 --clip /data/passala/Collaborator_Data/GEO_sourced_single_cell_for_CRUSH/Maize_nitrate_root_SC/sra/SRR15686126.sra\n",
      "Read 130187220 spots for /data/passala/Collaborator_Data/GEO_sourced_single_cell_for_CRUSH/Maize_nitrate_root_SC/sra/SRR15686126.sra\n",
      "Written 130187220 spots for /data/passala/Collaborator_Data/GEO_sourced_single_cell_for_CRUSH/Maize_nitrate_root_SC/sra/SRR15686126.sra\n",
      "Generating fastq for: SRR15686127\n",
      "The command used was: fastq-dump --outdir /data/passala/Collaborator_Data/GEO_sourced_single_cell_for_CRUSH/Maize_nitrate_root_SC/Fastq_dump_location_for_maize_runs --skip-technical  --readids --read-filter pass --dumpbase --split-3 --clip /data/passala/Collaborator_Data/GEO_sourced_single_cell_for_CRUSH/Maize_nitrate_root_SC/sra/SRR15686127.sra\n",
      "Read 125779577 spots for /data/passala/Collaborator_Data/GEO_sourced_single_cell_for_CRUSH/Maize_nitrate_root_SC/sra/SRR15686127.sra\n",
      "Written 125779577 spots for /data/passala/Collaborator_Data/GEO_sourced_single_cell_for_CRUSH/Maize_nitrate_root_SC/sra/SRR15686127.sra\n",
      "Generating fastq for: SRR15686128\n",
      "The command used was: fastq-dump --outdir /data/passala/Collaborator_Data/GEO_sourced_single_cell_for_CRUSH/Maize_nitrate_root_SC/Fastq_dump_location_for_maize_runs --skip-technical  --readids --read-filter pass --dumpbase --split-3 --clip /data/passala/Collaborator_Data/GEO_sourced_single_cell_for_CRUSH/Maize_nitrate_root_SC/sra/SRR15686128.sra\n",
      "Read 133830184 spots for /data/passala/Collaborator_Data/GEO_sourced_single_cell_for_CRUSH/Maize_nitrate_root_SC/sra/SRR15686128.sra\n",
      "Written 133830184 spots for /data/passala/Collaborator_Data/GEO_sourced_single_cell_for_CRUSH/Maize_nitrate_root_SC/sra/SRR15686128.sra\n",
      "Generating fastq for: SRR15686129\n",
      "The command used was: fastq-dump --outdir /data/passala/Collaborator_Data/GEO_sourced_single_cell_for_CRUSH/Maize_nitrate_root_SC/Fastq_dump_location_for_maize_runs --skip-technical  --readids --read-filter pass --dumpbase --split-3 --clip /data/passala/Collaborator_Data/GEO_sourced_single_cell_for_CRUSH/Maize_nitrate_root_SC/sra/SRR15686129.sra\n",
      "Read 12612705 spots for /data/passala/Collaborator_Data/GEO_sourced_single_cell_for_CRUSH/Maize_nitrate_root_SC/sra/SRR15686129.sra\n",
      "Written 12612705 spots for /data/passala/Collaborator_Data/GEO_sourced_single_cell_for_CRUSH/Maize_nitrate_root_SC/sra/SRR15686129.sra\n",
      "Generating fastq for: SRR15686130\n",
      "The command used was: fastq-dump --outdir /data/passala/Collaborator_Data/GEO_sourced_single_cell_for_CRUSH/Maize_nitrate_root_SC/Fastq_dump_location_for_maize_runs --skip-technical  --readids --read-filter pass --dumpbase --split-3 --clip /data/passala/Collaborator_Data/GEO_sourced_single_cell_for_CRUSH/Maize_nitrate_root_SC/sra/SRR15686130.sra\n",
      "Read 21401099 spots for /data/passala/Collaborator_Data/GEO_sourced_single_cell_for_CRUSH/Maize_nitrate_root_SC/sra/SRR15686130.sra\n",
      "Written 21401099 spots for /data/passala/Collaborator_Data/GEO_sourced_single_cell_for_CRUSH/Maize_nitrate_root_SC/sra/SRR15686130.sra\n",
      "Generating fastq for: SRR15686131\n",
      "The command used was: fastq-dump --outdir /data/passala/Collaborator_Data/GEO_sourced_single_cell_for_CRUSH/Maize_nitrate_root_SC/Fastq_dump_location_for_maize_runs --skip-technical  --readids --read-filter pass --dumpbase --split-3 --clip /data/passala/Collaborator_Data/GEO_sourced_single_cell_for_CRUSH/Maize_nitrate_root_SC/sra/SRR15686131.sra\n",
      "Read 20479887 spots for /data/passala/Collaborator_Data/GEO_sourced_single_cell_for_CRUSH/Maize_nitrate_root_SC/sra/SRR15686131.sra\n",
      "Written 20479887 spots for /data/passala/Collaborator_Data/GEO_sourced_single_cell_for_CRUSH/Maize_nitrate_root_SC/sra/SRR15686131.sra\n",
      "Generating fastq for: SRR15686132\n",
      "The command used was: fastq-dump --outdir /data/passala/Collaborator_Data/GEO_sourced_single_cell_for_CRUSH/Maize_nitrate_root_SC/Fastq_dump_location_for_maize_runs --skip-technical  --readids --read-filter pass --dumpbase --split-3 --clip /data/passala/Collaborator_Data/GEO_sourced_single_cell_for_CRUSH/Maize_nitrate_root_SC/sra/SRR15686132.sra\n",
      "Read 21749653 spots for /data/passala/Collaborator_Data/GEO_sourced_single_cell_for_CRUSH/Maize_nitrate_root_SC/sra/SRR15686132.sra\n",
      "Written 21749653 spots for /data/passala/Collaborator_Data/GEO_sourced_single_cell_for_CRUSH/Maize_nitrate_root_SC/sra/SRR15686132.sra\n"
     ]
    }
   ],
   "source": [
    "# sra_numbers = [\n",
    "#     \"SRR15686118\",\"SRR15686119\",\"SRR15686120\",\"SRR15686121\", \"SRR15686122\", \"SRR15686123\", \"SRR15686124\", \"SRR15686125\",\"SRR15686126\",\"SRR15686127\",\"SRR15686128\",\"SRR15686129\",\"SRR15686130\",\"SRR15686131\",\"SRR15686132\"\n",
    "#     ]\n",
    "\n",
    "# for sra_id in sra_numbers:\n",
    "#     print (\"Generating fastq for: \" + sra_id)\n",
    "#     fastq_dump = \"fastq-dump --outdir /data/passala/Collaborator_Data/GEO_sourced_single_cell_for_CRUSH/Maize_nitrate_root_SC/Fastq_dump_location_for_maize_runs --skip-technical  --readids --read-filter pass --dumpbase --split-3 --clip /data/passala/Collaborator_Data/GEO_sourced_single_cell_for_CRUSH/Maize_nitrate_root_SC/sra/\" +sra_id + \".sra\"\n",
    "#     print (\"The command used was: \" + fastq_dump)\n",
    "#     subprocess.call(fastq_dump, shell=True)"
   ]
  },
  {
   "cell_type": "code",
   "execution_count": null,
   "metadata": {},
   "outputs": [],
   "source": []
  }
 ],
 "metadata": {
  "kernelspec": {
   "display_name": "Python 2.7.15 ('Genomealign': conda)",
   "language": "python",
   "name": "python3"
  },
  "language_info": {
   "codemirror_mode": {
    "name": "ipython",
    "version": 3
   },
   "file_extension": ".py",
   "mimetype": "text/x-python",
   "name": "python",
   "nbconvert_exporter": "python",
   "pygments_lexer": "ipython3",
   "version": "2.7.15"
  },
  "orig_nbformat": 4,
  "vscode": {
   "interpreter": {
    "hash": "edbd794d477b36fe0f083f707284aeb46cda7218f774ef30e3875fdc19ebf5f5"
   }
  }
 },
 "nbformat": 4,
 "nbformat_minor": 2
}
