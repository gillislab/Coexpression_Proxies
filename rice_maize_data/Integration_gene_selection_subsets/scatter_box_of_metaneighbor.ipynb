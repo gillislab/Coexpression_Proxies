{
 "cells": [
  {
   "cell_type": "code",
   "execution_count": 1,
   "metadata": {},
   "outputs": [],
   "source": [
    "import pandas as pd\n",
    "import matplotlib.pyplot as plt\n",
    "import seaborn as sns"
   ]
  },
  {
   "cell_type": "code",
   "execution_count": 9,
   "metadata": {},
   "outputs": [],
   "source": [
    "list_of_models = ['Full Coexpressolog','Full Coexpressolog','Full Coexpressolog','Full Coexpressolog','1-1 Only','1-1 Only','1-1 Only','1-1 Only','Coexpressologs Only','Coexpressologs Only','Coexpressologs Only','Coexpressologs Only','Random Genes','Random Genes','Random Genes','Random Genes']\n",
    "list_of_cell_type = ['Cortex','Epidermis','Root Hair','Stele','Cortex','Epidermis','Root Hair','Stele','Cortex','Epidermis','Root Hair','Stele','Cortex','Epidermis','Root Hair','Stele',]\n"
   ]
  },
  {
   "cell_type": "code",
   "execution_count": 13,
   "metadata": {},
   "outputs": [],
   "source": [
    "list_of_scores = [.999967,.969295,.997158,.972963,.999918,.96197,.996106,.930486,.999918,.957551,.993926,.965386,.636467,.888151,.962784,.610164]"
   ]
  },
  {
   "cell_type": "code",
   "execution_count": 14,
   "metadata": {},
   "outputs": [],
   "source": [
    "full_df = pd.DataFrame(data = zip(list_of_models,list_of_cell_type,list_of_scores),columns = ['Gene Set','Cell Type','AUROC'])\n"
   ]
  },
  {
   "cell_type": "code",
   "execution_count": 15,
   "metadata": {},
   "outputs": [
    {
     "data": {
      "text/html": [
       "<div>\n",
       "<style scoped>\n",
       "    .dataframe tbody tr th:only-of-type {\n",
       "        vertical-align: middle;\n",
       "    }\n",
       "\n",
       "    .dataframe tbody tr th {\n",
       "        vertical-align: top;\n",
       "    }\n",
       "\n",
       "    .dataframe thead th {\n",
       "        text-align: right;\n",
       "    }\n",
       "</style>\n",
       "<table border=\"1\" class=\"dataframe\">\n",
       "  <thead>\n",
       "    <tr style=\"text-align: right;\">\n",
       "      <th></th>\n",
       "      <th>Gene Set</th>\n",
       "      <th>Cell Type</th>\n",
       "      <th>AUROC</th>\n",
       "    </tr>\n",
       "  </thead>\n",
       "  <tbody>\n",
       "    <tr>\n",
       "      <th>0</th>\n",
       "      <td>Full Coexpressolog</td>\n",
       "      <td>Cortex</td>\n",
       "      <td>0.999967</td>\n",
       "    </tr>\n",
       "    <tr>\n",
       "      <th>1</th>\n",
       "      <td>Full Coexpressolog</td>\n",
       "      <td>Epidermis</td>\n",
       "      <td>0.969295</td>\n",
       "    </tr>\n",
       "    <tr>\n",
       "      <th>2</th>\n",
       "      <td>Full Coexpressolog</td>\n",
       "      <td>Root Hair</td>\n",
       "      <td>0.997158</td>\n",
       "    </tr>\n",
       "    <tr>\n",
       "      <th>3</th>\n",
       "      <td>Full Coexpressolog</td>\n",
       "      <td>Stele</td>\n",
       "      <td>0.972963</td>\n",
       "    </tr>\n",
       "    <tr>\n",
       "      <th>4</th>\n",
       "      <td>1-1 Only</td>\n",
       "      <td>Cortex</td>\n",
       "      <td>0.999918</td>\n",
       "    </tr>\n",
       "    <tr>\n",
       "      <th>5</th>\n",
       "      <td>1-1 Only</td>\n",
       "      <td>Epidermis</td>\n",
       "      <td>0.961970</td>\n",
       "    </tr>\n",
       "    <tr>\n",
       "      <th>6</th>\n",
       "      <td>1-1 Only</td>\n",
       "      <td>Root Hair</td>\n",
       "      <td>0.996106</td>\n",
       "    </tr>\n",
       "    <tr>\n",
       "      <th>7</th>\n",
       "      <td>1-1 Only</td>\n",
       "      <td>Stele</td>\n",
       "      <td>0.930486</td>\n",
       "    </tr>\n",
       "    <tr>\n",
       "      <th>8</th>\n",
       "      <td>Coexpressologs Only</td>\n",
       "      <td>Cortex</td>\n",
       "      <td>0.999918</td>\n",
       "    </tr>\n",
       "    <tr>\n",
       "      <th>9</th>\n",
       "      <td>Coexpressologs Only</td>\n",
       "      <td>Epidermis</td>\n",
       "      <td>0.957551</td>\n",
       "    </tr>\n",
       "    <tr>\n",
       "      <th>10</th>\n",
       "      <td>Coexpressologs Only</td>\n",
       "      <td>Root Hair</td>\n",
       "      <td>0.993926</td>\n",
       "    </tr>\n",
       "    <tr>\n",
       "      <th>11</th>\n",
       "      <td>Coexpressologs Only</td>\n",
       "      <td>Stele</td>\n",
       "      <td>0.965386</td>\n",
       "    </tr>\n",
       "    <tr>\n",
       "      <th>12</th>\n",
       "      <td>Random Genes</td>\n",
       "      <td>Cortex</td>\n",
       "      <td>0.636467</td>\n",
       "    </tr>\n",
       "    <tr>\n",
       "      <th>13</th>\n",
       "      <td>Random Genes</td>\n",
       "      <td>Epidermis</td>\n",
       "      <td>0.888151</td>\n",
       "    </tr>\n",
       "    <tr>\n",
       "      <th>14</th>\n",
       "      <td>Random Genes</td>\n",
       "      <td>Root Hair</td>\n",
       "      <td>0.962784</td>\n",
       "    </tr>\n",
       "    <tr>\n",
       "      <th>15</th>\n",
       "      <td>Random Genes</td>\n",
       "      <td>Stele</td>\n",
       "      <td>0.610164</td>\n",
       "    </tr>\n",
       "  </tbody>\n",
       "</table>\n",
       "</div>"
      ],
      "text/plain": [
       "               Gene Set  Cell Type     AUROC\n",
       "0    Full Coexpressolog     Cortex  0.999967\n",
       "1    Full Coexpressolog  Epidermis  0.969295\n",
       "2    Full Coexpressolog  Root Hair  0.997158\n",
       "3    Full Coexpressolog      Stele  0.972963\n",
       "4              1-1 Only     Cortex  0.999918\n",
       "5              1-1 Only  Epidermis  0.961970\n",
       "6              1-1 Only  Root Hair  0.996106\n",
       "7              1-1 Only      Stele  0.930486\n",
       "8   Coexpressologs Only     Cortex  0.999918\n",
       "9   Coexpressologs Only  Epidermis  0.957551\n",
       "10  Coexpressologs Only  Root Hair  0.993926\n",
       "11  Coexpressologs Only      Stele  0.965386\n",
       "12         Random Genes     Cortex  0.636467\n",
       "13         Random Genes  Epidermis  0.888151\n",
       "14         Random Genes  Root Hair  0.962784\n",
       "15         Random Genes      Stele  0.610164"
      ]
     },
     "execution_count": 15,
     "metadata": {},
     "output_type": "execute_result"
    }
   ],
   "source": [
    "full_df"
   ]
  },
  {
   "cell_type": "code",
   "execution_count": 17,
   "metadata": {},
   "outputs": [
    {
     "data": {
      "text/plain": [
       "<AxesSubplot:xlabel='Cell Type', ylabel='AUROC'>"
      ]
     },
     "execution_count": 17,
     "metadata": {},
     "output_type": "execute_result"
    },
    {
     "data": {
      "image/png": "[encoded data removed]",
      "text/plain": [
       "<Figure size 432x288 with 1 Axes>"
      ]
     },
     "metadata": {
      "needs_background": "light"
     },
     "output_type": "display_data"
    }
   ],
   "source": [
    "sns.scatterplot(data = full_df, x = 'Cell Type',y = 'AUROC', hue = 'Gene Set')"
   ]
  },
  {
   "cell_type": "code",
   "execution_count": 18,
   "metadata": {},
   "outputs": [
    {
     "data": {
      "text/html": [
       "<div>\n",
       "<style scoped>\n",
       "    .dataframe tbody tr th:only-of-type {\n",
       "        vertical-align: middle;\n",
       "    }\n",
       "\n",
       "    .dataframe tbody tr th {\n",
       "        vertical-align: top;\n",
       "    }\n",
       "\n",
       "    .dataframe thead th {\n",
       "        text-align: right;\n",
       "    }\n",
       "</style>\n",
       "<table border=\"1\" class=\"dataframe\">\n",
       "  <thead>\n",
       "    <tr style=\"text-align: right;\">\n",
       "      <th></th>\n",
       "      <th>Gene Set</th>\n",
       "      <th>Cell Type</th>\n",
       "      <th>AUROC</th>\n",
       "    </tr>\n",
       "  </thead>\n",
       "  <tbody>\n",
       "    <tr>\n",
       "      <th>0</th>\n",
       "      <td>Full Coexpressolog</td>\n",
       "      <td>Cortex</td>\n",
       "      <td>0.999967</td>\n",
       "    </tr>\n",
       "    <tr>\n",
       "      <th>1</th>\n",
       "      <td>Full Coexpressolog</td>\n",
       "      <td>Epidermis</td>\n",
       "      <td>0.969295</td>\n",
       "    </tr>\n",
       "    <tr>\n",
       "      <th>2</th>\n",
       "      <td>Full Coexpressolog</td>\n",
       "      <td>Root Hair</td>\n",
       "      <td>0.997158</td>\n",
       "    </tr>\n",
       "    <tr>\n",
       "      <th>3</th>\n",
       "      <td>Full Coexpressolog</td>\n",
       "      <td>Stele</td>\n",
       "      <td>0.972963</td>\n",
       "    </tr>\n",
       "    <tr>\n",
       "      <th>4</th>\n",
       "      <td>1-1 Only</td>\n",
       "      <td>Cortex</td>\n",
       "      <td>0.999918</td>\n",
       "    </tr>\n",
       "    <tr>\n",
       "      <th>5</th>\n",
       "      <td>1-1 Only</td>\n",
       "      <td>Epidermis</td>\n",
       "      <td>0.961970</td>\n",
       "    </tr>\n",
       "    <tr>\n",
       "      <th>6</th>\n",
       "      <td>1-1 Only</td>\n",
       "      <td>Root Hair</td>\n",
       "      <td>0.996106</td>\n",
       "    </tr>\n",
       "    <tr>\n",
       "      <th>7</th>\n",
       "      <td>1-1 Only</td>\n",
       "      <td>Stele</td>\n",
       "      <td>0.930486</td>\n",
       "    </tr>\n",
       "    <tr>\n",
       "      <th>8</th>\n",
       "      <td>Coexpressologs Only</td>\n",
       "      <td>Cortex</td>\n",
       "      <td>0.999918</td>\n",
       "    </tr>\n",
       "    <tr>\n",
       "      <th>9</th>\n",
       "      <td>Coexpressologs Only</td>\n",
       "      <td>Epidermis</td>\n",
       "      <td>0.957551</td>\n",
       "    </tr>\n",
       "    <tr>\n",
       "      <th>10</th>\n",
       "      <td>Coexpressologs Only</td>\n",
       "      <td>Root Hair</td>\n",
       "      <td>0.993926</td>\n",
       "    </tr>\n",
       "    <tr>\n",
       "      <th>11</th>\n",
       "      <td>Coexpressologs Only</td>\n",
       "      <td>Stele</td>\n",
       "      <td>0.965386</td>\n",
       "    </tr>\n",
       "  </tbody>\n",
       "</table>\n",
       "</div>"
      ],
      "text/plain": [
       "               Gene Set  Cell Type     AUROC\n",
       "0    Full Coexpressolog     Cortex  0.999967\n",
       "1    Full Coexpressolog  Epidermis  0.969295\n",
       "2    Full Coexpressolog  Root Hair  0.997158\n",
       "3    Full Coexpressolog      Stele  0.972963\n",
       "4              1-1 Only     Cortex  0.999918\n",
       "5              1-1 Only  Epidermis  0.961970\n",
       "6              1-1 Only  Root Hair  0.996106\n",
       "7              1-1 Only      Stele  0.930486\n",
       "8   Coexpressologs Only     Cortex  0.999918\n",
       "9   Coexpressologs Only  Epidermis  0.957551\n",
       "10  Coexpressologs Only  Root Hair  0.993926\n",
       "11  Coexpressologs Only      Stele  0.965386"
      ]
     },
     "execution_count": 18,
     "metadata": {},
     "output_type": "execute_result"
    }
   ],
   "source": [
    "no_random = full_df.loc[full_df['Gene Set']!='Random Genes']\n",
    "no_random"
   ]
  },
  {
   "cell_type": "code",
   "execution_count": 19,
   "metadata": {},
   "outputs": [
    {
     "data": {
      "text/plain": [
       "<AxesSubplot:xlabel='Cell Type', ylabel='AUROC'>"
      ]
     },
     "execution_count": 19,
     "metadata": {},
     "output_type": "execute_result"
    },
    {
     "data": {
      "image/png": "[encoded data removed]",
      "text/plain": [
       "<Figure size 432x288 with 1 Axes>"
      ]
     },
     "metadata": {
      "needs_background": "light"
     },
     "output_type": "display_data"
    }
   ],
   "source": [
    "sns.scatterplot(data = no_random, x = 'Cell Type',y = 'AUROC', hue = 'Gene Set')"
   ]
  },
  {
   "cell_type": "code",
   "execution_count": 20,
   "metadata": {},
   "outputs": [],
   "source": [
    "no_random_only_cortex = no_random.loc[no_random['Cell Type']=='Cortex']"
   ]
  },
  {
   "cell_type": "code",
   "execution_count": 21,
   "metadata": {},
   "outputs": [
    {
     "data": {
      "text/plain": [
       "<AxesSubplot:xlabel='Cell Type', ylabel='AUROC'>"
      ]
     },
     "execution_count": 21,
     "metadata": {},
     "output_type": "execute_result"
    },
    {
     "data": {
      "image/png": "[encoded data removed]",
      "text/plain": [
       "<Figure size 432x288 with 1 Axes>"
      ]
     },
     "metadata": {
      "needs_background": "light"
     },
     "output_type": "display_data"
    }
   ],
   "source": [
    "sns.scatterplot(data = no_random_only_cortex, x = 'Cell Type',y = 'AUROC', hue = 'Gene Set')"
   ]
  },
  {
   "cell_type": "code",
   "execution_count": null,
   "metadata": {},
   "outputs": [],
   "source": []
  }
 ],
 "metadata": {
  "kernelspec": {
   "display_name": "Single_cell_data_fix",
   "language": "python",
   "name": "python3"
  },
  "language_info": {
   "codemirror_mode": {
    "name": "ipython",
    "version": 3
   },
   "file_extension": ".py",
   "mimetype": "text/x-python",
   "name": "python",
   "nbconvert_exporter": "python",
   "pygments_lexer": "ipython3",
   "version": "3.9.13"
  },
  "orig_nbformat": 4
 },
 "nbformat": 4,
 "nbformat_minor": 2
}
