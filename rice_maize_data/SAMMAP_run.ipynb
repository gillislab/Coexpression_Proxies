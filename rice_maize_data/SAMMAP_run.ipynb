{
 "cells": [
  {
   "cell_type": "code",
   "execution_count": 1,
   "metadata": {},
   "outputs": [
    {
     "name": "stderr",
     "output_type": "stream",
     "text": [
      "/home/passala/miniconda3/envs/SAMap_fix_attempt/lib/python3.10/site-packages/tqdm/auto.py:21: TqdmWarning: IProgress not found. Please update jupyter and ipywidgets. See https://ipywidgets.readthedocs.io/en/stable/user_install.html\n",
      "  from .autonotebook import tqdm as notebook_tqdm\n"
     ]
    }
   ],
   "source": [
    "from samap.mapping import SAMAP\n",
    "from samap.analysis import (get_mapping_scores, GenePairFinder,\n",
    "                            sankey_plot, chord_plot, CellTypeTriangles, \n",
    "                            ParalogSubstitutions, FunctionalEnrichment,\n",
    "                            convert_eggnog_to_homologs, GeneTriangles)\n",
    "from samalg import SAM\n",
    "import pandas as pd\n",
    "import scanpy as sc"
   ]
  },
  {
   "cell_type": "code",
   "execution_count": 2,
   "metadata": {},
   "outputs": [],
   "source": [
    "fn1 = '/home/passala/Temp_directory_for_reading_error_all_stuff_backed_up_if_MP_is_PhD_delete/GEO_sourced_single_cell_for_CRUSH/SAMMAP_stuff/rice_filtered_sc.h5ad'\n",
    "fn2 = '/home/passala/Temp_directory_for_reading_error_all_stuff_backed_up_if_MP_is_PhD_delete/GEO_sourced_single_cell_for_CRUSH/SAMMAP_stuff/maize_filtered_sc.h5ad'"
   ]
  },
  {
   "cell_type": "code",
   "execution_count": 3,
   "metadata": {},
   "outputs": [],
   "source": [
    "filenames = {'OS':fn1,'ZM':fn2}"
   ]
  },
  {
   "cell_type": "code",
   "execution_count": 4,
   "metadata": {},
   "outputs": [],
   "source": [
    "A=pd.read_csv('/data/passala/Coexpressolog_paper_data/Sammap_files/blast_maps/maps/ZMOS/OS_to_ZM.txt',sep='\\t',index_col=0,header=None)"
   ]
  },
  {
   "cell_type": "code",
   "execution_count": 5,
   "metadata": {},
   "outputs": [
    {
     "data": {
      "text/html": [
       "<div>\n",
       "<style scoped>\n",
       "    .dataframe tbody tr th:only-of-type {\n",
       "        vertical-align: middle;\n",
       "    }\n",
       "\n",
       "    .dataframe tbody tr th {\n",
       "        vertical-align: top;\n",
       "    }\n",
       "\n",
       "    .dataframe thead th {\n",
       "        text-align: right;\n",
       "    }\n",
       "</style>\n",
       "<table border=\"1\" class=\"dataframe\">\n",
       "  <thead>\n",
       "    <tr style=\"text-align: right;\">\n",
       "      <th></th>\n",
       "      <th>1</th>\n",
       "      <th>2</th>\n",
       "      <th>3</th>\n",
       "      <th>4</th>\n",
       "      <th>5</th>\n",
       "      <th>6</th>\n",
       "      <th>7</th>\n",
       "      <th>8</th>\n",
       "      <th>9</th>\n",
       "      <th>10</th>\n",
       "      <th>11</th>\n",
       "    </tr>\n",
       "    <tr>\n",
       "      <th>0</th>\n",
       "      <th></th>\n",
       "      <th></th>\n",
       "      <th></th>\n",
       "      <th></th>\n",
       "      <th></th>\n",
       "      <th></th>\n",
       "      <th></th>\n",
       "      <th></th>\n",
       "      <th></th>\n",
       "      <th></th>\n",
       "      <th></th>\n",
       "    </tr>\n",
       "  </thead>\n",
       "  <tbody>\n",
       "    <tr>\n",
       "      <th>LOC_Os01g01010</th>\n",
       "      <td>Zm00001d040234</td>\n",
       "      <td>75.434</td>\n",
       "      <td>692</td>\n",
       "      <td>149</td>\n",
       "      <td>3</td>\n",
       "      <td>12</td>\n",
       "      <td>701</td>\n",
       "      <td>11</td>\n",
       "      <td>683</td>\n",
       "      <td>0.0</td>\n",
       "      <td>1073.0</td>\n",
       "    </tr>\n",
       "    <tr>\n",
       "      <th>LOC_Os01g01010</th>\n",
       "      <td>Zm00001d040234</td>\n",
       "      <td>75.434</td>\n",
       "      <td>692</td>\n",
       "      <td>149</td>\n",
       "      <td>3</td>\n",
       "      <td>12</td>\n",
       "      <td>701</td>\n",
       "      <td>11</td>\n",
       "      <td>683</td>\n",
       "      <td>0.0</td>\n",
       "      <td>1073.0</td>\n",
       "    </tr>\n",
       "    <tr>\n",
       "      <th>LOC_Os01g01010</th>\n",
       "      <td>Zm00001d040234</td>\n",
       "      <td>72.874</td>\n",
       "      <td>682</td>\n",
       "      <td>164</td>\n",
       "      <td>3</td>\n",
       "      <td>12</td>\n",
       "      <td>691</td>\n",
       "      <td>11</td>\n",
       "      <td>673</td>\n",
       "      <td>0.0</td>\n",
       "      <td>1015.0</td>\n",
       "    </tr>\n",
       "    <tr>\n",
       "      <th>LOC_Os01g01010</th>\n",
       "      <td>Zm00001d040234</td>\n",
       "      <td>74.772</td>\n",
       "      <td>658</td>\n",
       "      <td>145</td>\n",
       "      <td>3</td>\n",
       "      <td>12</td>\n",
       "      <td>667</td>\n",
       "      <td>11</td>\n",
       "      <td>649</td>\n",
       "      <td>0.0</td>\n",
       "      <td>1009.0</td>\n",
       "    </tr>\n",
       "    <tr>\n",
       "      <th>LOC_Os01g01010</th>\n",
       "      <td>Zm00001d040234</td>\n",
       "      <td>72.134</td>\n",
       "      <td>689</td>\n",
       "      <td>164</td>\n",
       "      <td>4</td>\n",
       "      <td>12</td>\n",
       "      <td>691</td>\n",
       "      <td>11</td>\n",
       "      <td>680</td>\n",
       "      <td>0.0</td>\n",
       "      <td>1007.0</td>\n",
       "    </tr>\n",
       "  </tbody>\n",
       "</table>\n",
       "</div>"
      ],
      "text/plain": [
       "                            1       2    3    4   5   6    7   8    9    10  \\\n",
       "0                                                                             \n",
       "LOC_Os01g01010  Zm00001d040234  75.434  692  149   3  12  701  11  683  0.0   \n",
       "LOC_Os01g01010  Zm00001d040234  75.434  692  149   3  12  701  11  683  0.0   \n",
       "LOC_Os01g01010  Zm00001d040234  72.874  682  164   3  12  691  11  673  0.0   \n",
       "LOC_Os01g01010  Zm00001d040234  74.772  658  145   3  12  667  11  649  0.0   \n",
       "LOC_Os01g01010  Zm00001d040234  72.134  689  164   4  12  691  11  680  0.0   \n",
       "\n",
       "                    11  \n",
       "0                       \n",
       "LOC_Os01g01010  1073.0  \n",
       "LOC_Os01g01010  1073.0  \n",
       "LOC_Os01g01010  1015.0  \n",
       "LOC_Os01g01010  1009.0  \n",
       "LOC_Os01g01010  1007.0  "
      ]
     },
     "execution_count": 5,
     "metadata": {},
     "output_type": "execute_result"
    }
   ],
   "source": [
    "A.head()"
   ]
  },
  {
   "cell_type": "code",
   "execution_count": 6,
   "metadata": {},
   "outputs": [],
   "source": [
    "sam1=SAM()\n",
    "sam1.load_data(fn1)\n",
    "sam2=SAM()\n",
    "sam2.load_data(fn2)\n"
   ]
  },
  {
   "cell_type": "code",
   "execution_count": 7,
   "metadata": {},
   "outputs": [
    {
     "name": "stdout",
     "output_type": "stream",
     "text": [
      "Processing data OS from:\n",
      "/home/passala/Temp_directory_for_reading_error_all_stuff_backed_up_if_MP_is_PhD_delete/GEO_sourced_single_cell_for_CRUSH/SAMMAP_stuff/rice_filtered_sc.h5ad\n",
      "RUNNING SAM\n",
      "Iteration: 0, Convergence: 1.0\n",
      "Iteration: 1, Convergence: 0.8681934312324614\n",
      "Iteration: 2, Convergence: 0.013529693979814622\n",
      "Computing the UMAP embedding...\n",
      "Elapsed time: 24.297351837158203 seconds\n",
      "Not updating the manifold...\n",
      "Processing data ZM from:\n",
      "/home/passala/Temp_directory_for_reading_error_all_stuff_backed_up_if_MP_is_PhD_delete/GEO_sourced_single_cell_for_CRUSH/SAMMAP_stuff/maize_filtered_sc.h5ad\n",
      "RUNNING SAM\n",
      "Iteration: 0, Convergence: 1.0\n",
      "Iteration: 1, Convergence: 0.9333974234442851\n",
      "Computing the UMAP embedding...\n",
      "Elapsed time: 13.946604251861572 seconds\n",
      "Not updating the manifold...\n",
      "25715 `OS` gene symbols match between the datasets and the BLAST graph.\n",
      "31319 `ZM` gene symbols match between the datasets and the BLAST graph.\n"
     ]
    }
   ],
   "source": [
    "sams = {'OS':sam1,'ZM':sam2}\n",
    "\n",
    "sm = SAMAP(\n",
    "        filenames,\n",
    "        f_maps = '/data/passala/Coexpressolog_paper_data/Sammap_files/blast_maps/maps/',\n",
    "    )"
   ]
  },
  {
   "cell_type": "code",
   "execution_count": 8,
   "metadata": {},
   "outputs": [
    {
     "data": {
      "text/plain": [
       "['OS', 'ZM']"
      ]
     },
     "execution_count": 8,
     "metadata": {},
     "output_type": "execute_result"
    }
   ],
   "source": [
    "ids = list(filenames.keys())\n",
    "ids"
   ]
  },
  {
   "cell_type": "code",
   "execution_count": 9,
   "metadata": {},
   "outputs": [],
   "source": [
    "# ids = ids\n",
    "# f_maps = '/data/passala/Coexpressolog_paper_data/Sammap_files/blast_maps/maps/'\n",
    "# eval_thr=1e-6\n",
    "# reciprocate=False\n",
    "# gns = []\n",
    "# Xs=[]\n",
    "# Ys=[]\n",
    "# Vs=[]\n",
    "\n",
    "# for i in range(len(ids)):\n",
    "#     id1=ids[i]\n",
    "#     for j in range(i,len(ids)):\n",
    "#         id2=ids[j]\n",
    "#         if i!=j:\n",
    "#             if os.path.exists(f_maps + \"{}{}\".format(id1, id2)):\n",
    "#                 fA = f_maps + \"{}{}/{}_to_{}.txt\".format(id1, id2, id1, id2)\n",
    "#                 fB = f_maps + \"{}{}/{}_to_{}.txt\".format(id1, id2, id2, id1)\n",
    "#             elif os.path.exists(f_maps + \"{}{}\".format(id2, id1)):\n",
    "#                 fA = f_maps + \"{}{}/{}_to_{}.txt\".format(id2, id1, id1, id2)\n",
    "#                 fB = f_maps + \"{}{}/{}_to_{}.txt\".format(id2, id1, id2, id1)\n",
    "#             else:\n",
    "#                 raise FileExistsError(\n",
    "#                     \"BLAST mapping tables with the input IDs ({} and {}) not found in the specified path.\".format(\n",
    "#                         id1, id2\n",
    "#                     )\n",
    "#                 )\n",
    "\n",
    "#             A = pd.read_csv(fA, sep=\"\\t\", header=None, index_col=0)\n",
    "#             B = pd.read_csv(fB, sep=\"\\t\", header=None, index_col=0)\n",
    "\n",
    "\n",
    "\n",
    "#             A.columns = A.columns.astype(\"<U100\")\n",
    "#             B.columns = B.columns.astype(\"<U100\")\n",
    "\n",
    "#             A = A[A.index.astype(\"str\") != \"nan\"]\n",
    "#             A = A[A.iloc[:, 0].astype(\"str\") != \"nan\"]\n",
    "#             B = B[B.index.astype(\"str\") != \"nan\"]\n",
    "#             B = B[B.iloc[:, 0].astype(\"str\") != \"nan\"]\n",
    "\n",
    "#             A.index = A.index.astype('str')#### THESE TWO LINES FIX THE CODE PAY ATTENTION HERE\n",
    "#             ### PAY ATTENTION HERE\n",
    "#             B.index = B.index.astype('str')\n",
    "\n",
    "#             A.index = _prepend_blast_prefix(A.index,id1)\n",
    "#             B[B.columns[0]] = _prepend_blast_prefix(B.iloc[:, 0].values.flatten(),id1)\n",
    "\n",
    "#             B.index = _prepend_blast_prefix(B.index,id2)\n",
    "#             A[A.columns[0]] = _prepend_blast_prefix(A.iloc[:, 0].values.flatten(),id2)\n",
    "\n",
    "#             i1 = np.where(A.columns == \"10\")[0][0]\n",
    "#             i3 = np.where(A.columns == \"11\")[0][0]\n",
    "\n",
    "#             inA = q(A.index)\n",
    "#             inB = q(B.index)\n",
    "\n",
    "#             inA2 = q(A.iloc[:, 0])\n",
    "#             inB2 = q(B.iloc[:, 0])\n",
    "#             gn1 = np.unique(np.append(inB2, inA))\n",
    "#             gn2 = np.unique(np.append(inA2, inB))\n",
    "#             gn = np.append(gn1, gn2)\n",
    "#             gnind = pd.DataFrame(data=np.arange(gn.size)[None, :], columns=gn)\n",
    "\n",
    "#             A.index = pd.Index(gnind[A.index].values.flatten())\n",
    "#             B.index = pd.Index(gnind[B.index].values.flatten())\n",
    "#             A[A.columns[0]] = gnind[A.iloc[:, 0].values.flatten()].values.flatten()\n",
    "#             B[B.columns[0]] = gnind[B.iloc[:, 0].values.flatten()].values.flatten()\n",
    "\n",
    "#             Arows = np.vstack((A.index, A.iloc[:, 0], A.iloc[:, i3])).T\n",
    "#             Arows = Arows[A.iloc[:, i1].values.flatten() <= eval_thr, :]\n",
    "#             gnnm1 = sp.sparse.lil_matrix((gn.size,) * 2)\n",
    "#             gnnm1[Arows[:, 0].astype(\"int32\"), Arows[:, 1].astype(\"int32\")] = Arows[\n",
    "#                 :, 2\n",
    "#             ]  # -np.log10(Arows[:,2]+1e-200)\n",
    "\n",
    "#             Brows = np.vstack((B.index, B.iloc[:, 0], B.iloc[:, i3])).T\n",
    "#             Brows = Brows[B.iloc[:, i1].values.flatten() <= eval_thr, :]\n",
    "#             gnnm2 = sp.sparse.lil_matrix((gn.size,) * 2)\n",
    "#             gnnm2[Brows[:, 0].astype(\"int32\"), Brows[:, 1].astype(\"int32\")] = Brows[\n",
    "#                 :, 2\n",
    "#             ]  # -np.log10(Brows[:,2]+1e-200)\n",
    "\n",
    "#             gnnm = (gnnm1 + gnnm2).tocsr()\n",
    "#             gnnms = (gnnm + gnnm.T) / 2\n",
    "#             if reciprocate:\n",
    "#                 gnnm.data[:] = 1\n",
    "#                 gnnms = gnnms.multiply(gnnm).multiply(gnnm.T).tocsr()\n",
    "#             gnnm = gnnms\n",
    "\n",
    "#             f1 = np.where(np.in1d(gn,gn1))[0]\n",
    "#             f2 = np.where(np.in1d(gn,gn2))[0]\n",
    "#             f = np.append(f1,f2)\n",
    "#             gn = gn[f]\n",
    "#             gnnm = gnnm[f,:][:,f]\n",
    "            \n",
    "#             V = gnnm.data\n",
    "#             X,Y = gnnm.nonzero()\n",
    "            \n",
    "#             Xs.extend(gn[X])\n",
    "#             Ys.extend(gn[Y])\n",
    "#             Vs.extend(V)\n",
    "#             gns.extend(gn)\n"
   ]
  },
  {
   "cell_type": "code",
   "execution_count": 9,
   "metadata": {},
   "outputs": [
    {
     "name": "stdout",
     "output_type": "stream",
     "text": [
      "Prepping datasets for translation.\n",
      "Translating feature spaces pairwise.\n",
      "Projecting data into joint latent space. 0.25705909729003906\n",
      "Correcting data with means. 1.2215006351470947\n",
      "Expanding neighbourhoods of species OS...\n",
      "Expanding neighbourhoods of species ZM...\n",
      "Indegree coarsening\n",
      "0/1 (0, 6332)\n",
      "Rescaling edge weights by expression correlations.\n",
      "Concatenating SAM objects...\n",
      "Iteration 1 complete.\n",
      "Alignment scores:\n",
      "          OS       ZM\n",
      "OS  0.000000  0.04531\n",
      "ZM  0.037061  0.00000\n",
      "Calculating gene-gene correlations in the homology graph...\n"
     ]
    },
    {
     "ename": "TypingError",
     "evalue": "Failed in nopython mode pipeline (step: nopython frontend)\nFailed in nopython mode pipeline (step: native lowering)\nCannot cast float64 to [unichr x 2]: double %\"arg.key\"\nDuring: lowering \"castedkey = call $2load_global.0(key, $6load_deref.2, func=$2load_global.0, args=[Var(key, dictobject.py:757), Var($6load_deref.2, dictobject.py:757)], kws=(), vararg=None, varkwarg=None, target=None)\" at /home/passala/miniconda3/envs/SAMap_fix_attempt/lib/python3.10/site-packages/numba/typed/dictobject.py (757)\nDuring: typing of intrinsic-call at /home/passala/miniconda3/envs/SAMap_fix_attempt/lib/python3.10/site-packages/samap/mapping.py (1477)\n\nFile \"../../../../../home/passala/miniconda3/envs/SAMap_fix_attempt/lib/python3.10/site-packages/samap/mapping.py\", line 1477:\ndef _refine_corr_kernel(p, ps, sids, sixs, indptr,indices,data, n, corr_mode):\n    <source elided>\n        a1, a2 = ps1[j], ps2[j]\n        ix1 = d[a1]\n        ^\n",
     "output_type": "error",
     "traceback": [
      "\u001b[0;31m---------------------------------------------------------------------------\u001b[0m",
      "\u001b[0;31mTypingError\u001b[0m                               Traceback (most recent call last)",
      "Cell \u001b[0;32mIn[9], line 1\u001b[0m\n\u001b[0;32m----> 1\u001b[0m sm\u001b[39m.\u001b[39;49mrun()\n\u001b[1;32m      2\u001b[0m samap \u001b[39m=\u001b[39m sm\u001b[39m.\u001b[39msamap \u001b[39m# SAM object with three species stitched together\u001b[39;00m\n",
      "File \u001b[0;32m~/miniconda3/envs/SAMap_fix_attempt/lib/python3.10/site-packages/samap/mapping.py:298\u001b[0m, in \u001b[0;36mSAMAP.run\u001b[0;34m(self, NUMITERS, NHS, crossK, N_GENE_CHUNKS, umap, ncpus, hom_edge_thr, hom_edge_mode, scale_edges_by_corr, neigh_from_keys, pairwise)\u001b[0m\n\u001b[1;32m    294\u001b[0m         neigh_from_keys[sid] \u001b[39m=\u001b[39m \u001b[39mFalse\u001b[39;00m\n\u001b[1;32m    296\u001b[0m start_time \u001b[39m=\u001b[39m time\u001b[39m.\u001b[39mtime()\n\u001b[0;32m--> 298\u001b[0m smap\u001b[39m.\u001b[39;49mrun(\n\u001b[1;32m    299\u001b[0m     NUMITERS\u001b[39m=\u001b[39;49mNUMITERS,\n\u001b[1;32m    300\u001b[0m     NHS\u001b[39m=\u001b[39;49mNHS,\n\u001b[1;32m    301\u001b[0m     K\u001b[39m=\u001b[39;49mcrossK,\n\u001b[1;32m    302\u001b[0m     NCLUSTERS\u001b[39m=\u001b[39;49mN_GENE_CHUNKS,\n\u001b[1;32m    303\u001b[0m     ncpus\u001b[39m=\u001b[39;49mncpus,\n\u001b[1;32m    304\u001b[0m     THR\u001b[39m=\u001b[39;49mhom_edge_thr,\n\u001b[1;32m    305\u001b[0m     corr_mode\u001b[39m=\u001b[39;49mhom_edge_mode,\n\u001b[1;32m    306\u001b[0m     scale_edges_by_corr \u001b[39m=\u001b[39;49m scale_edges_by_corr,\n\u001b[1;32m    307\u001b[0m     neigh_from_keys\u001b[39m=\u001b[39;49mneigh_from_keys,\n\u001b[1;32m    308\u001b[0m     pairwise\u001b[39m=\u001b[39;49mpairwise\n\u001b[1;32m    309\u001b[0m )\n\u001b[1;32m    310\u001b[0m samap \u001b[39m=\u001b[39m smap\u001b[39m.\u001b[39mfinal_sam\n\u001b[1;32m    311\u001b[0m \u001b[39mself\u001b[39m\u001b[39m.\u001b[39msamap \u001b[39m=\u001b[39m samap\n",
      "File \u001b[0;32m~/miniconda3/envs/SAMap_fix_attempt/lib/python3.10/site-packages/samap/mapping.py:728\u001b[0m, in \u001b[0;36m_Samap_Iter.run\u001b[0;34m(self, NUMITERS, NHS, K, corr_mode, NCLUSTERS, scale_edges_by_corr, THR, neigh_from_keys, pairwise, ncpus)\u001b[0m\n\u001b[1;32m    726\u001b[0m \u001b[39mprint\u001b[39m(\u001b[39m\"\u001b[39m\u001b[39mCalculating gene-gene correlations in the homology graph...\u001b[39m\u001b[39m\"\u001b[39m)\n\u001b[1;32m    727\u001b[0m \u001b[39mself\u001b[39m\u001b[39m.\u001b[39msamap \u001b[39m=\u001b[39m sam4\n\u001b[0;32m--> 728\u001b[0m gnnmu \u001b[39m=\u001b[39m \u001b[39mself\u001b[39;49m\u001b[39m.\u001b[39;49mrefine_homology_graph(ncpus \u001b[39m=\u001b[39;49m ncpus,  NCLUSTERS \u001b[39m=\u001b[39;49m NCLUSTERS,  THR\u001b[39m=\u001b[39;49mTHR, corr_mode\u001b[39m=\u001b[39;49mcorr_mode)\n\u001b[1;32m    730\u001b[0m \u001b[39mself\u001b[39m\u001b[39m.\u001b[39mGNNMS_corr\u001b[39m.\u001b[39mappend(gnnmu)\n\u001b[1;32m    731\u001b[0m \u001b[39mself\u001b[39m\u001b[39m.\u001b[39mgnnmu \u001b[39m=\u001b[39m gnnmu\n",
      "File \u001b[0;32m~/miniconda3/envs/SAMap_fix_attempt/lib/python3.10/site-packages/samap/mapping.py:655\u001b[0m, in \u001b[0;36m_Samap_Iter.refine_homology_graph\u001b[0;34m(self, NCLUSTERS, ncpus, THR, corr_mode, wscale)\u001b[0m\n\u001b[1;32m    652\u001b[0m keys \u001b[39m=\u001b[39m \u001b[39mself\u001b[39m\u001b[39m.\u001b[39mkeys\n\u001b[1;32m    653\u001b[0m sam4 \u001b[39m=\u001b[39m \u001b[39mself\u001b[39m\u001b[39m.\u001b[39msamap\n\u001b[0;32m--> 655\u001b[0m gnnmu \u001b[39m=\u001b[39m _refine_corr(\n\u001b[1;32m    656\u001b[0m     sams,\n\u001b[1;32m    657\u001b[0m     sam4,\n\u001b[1;32m    658\u001b[0m     gnnm,\n\u001b[1;32m    659\u001b[0m     gns_dict,\n\u001b[1;32m    660\u001b[0m     THR\u001b[39m=\u001b[39;49mTHR,\n\u001b[1;32m    661\u001b[0m     use_seq\u001b[39m=\u001b[39;49m\u001b[39mFalse\u001b[39;49;00m,\n\u001b[1;32m    662\u001b[0m     T1\u001b[39m=\u001b[39;49m\u001b[39m0\u001b[39;49m,\n\u001b[1;32m    663\u001b[0m     NCLUSTERS\u001b[39m=\u001b[39;49mNCLUSTERS,\n\u001b[1;32m    664\u001b[0m     ncpus\u001b[39m=\u001b[39;49mncpus,\n\u001b[1;32m    665\u001b[0m     corr_mode\u001b[39m=\u001b[39;49mcorr_mode,\n\u001b[1;32m    666\u001b[0m     wscale\u001b[39m=\u001b[39;49mwscale\n\u001b[1;32m    667\u001b[0m )\n\u001b[1;32m    668\u001b[0m \u001b[39mreturn\u001b[39;00m gnnmu\n",
      "File \u001b[0;32m~/miniconda3/envs/SAMap_fix_attempt/lib/python3.10/site-packages/samap/mapping.py:1006\u001b[0m, in \u001b[0;36m_refine_corr\u001b[0;34m(sams, st, gnnm, gns_dict, corr_mode, THR, use_seq, T1, NCLUSTERS, ncpus, wscale)\u001b[0m\n\u001b[1;32m   1003\u001b[0m     gn \u001b[39m=\u001b[39m gns_dict[sid]\n\u001b[1;32m   1004\u001b[0m     gns_dict_sub[sid] \u001b[39m=\u001b[39m gn[np\u001b[39m.\u001b[39min1d(gn,gnsub)]\n\u001b[0;32m-> 1006\u001b[0m gnnm2_sub \u001b[39m=\u001b[39m _refine_corr_parallel(\n\u001b[1;32m   1007\u001b[0m     sams,\n\u001b[1;32m   1008\u001b[0m     st,\n\u001b[1;32m   1009\u001b[0m     gnnm_sub,\n\u001b[1;32m   1010\u001b[0m     gns_dict_sub,\n\u001b[1;32m   1011\u001b[0m     corr_mode\u001b[39m=\u001b[39;49mcorr_mode,\n\u001b[1;32m   1012\u001b[0m     THR\u001b[39m=\u001b[39;49mTHR,\n\u001b[1;32m   1013\u001b[0m     use_seq\u001b[39m=\u001b[39;49muse_seq,\n\u001b[1;32m   1014\u001b[0m     T1\u001b[39m=\u001b[39;49mT1,\n\u001b[1;32m   1015\u001b[0m     ncpus\u001b[39m=\u001b[39;49mncpus,\n\u001b[1;32m   1016\u001b[0m     wscale\u001b[39m=\u001b[39;49mwscale\n\u001b[1;32m   1017\u001b[0m )\n\u001b[1;32m   1018\u001b[0m GNNMSUBS\u001b[39m.\u001b[39mappend(gnnm2_sub)\n\u001b[1;32m   1019\u001b[0m GNSUBS\u001b[39m.\u001b[39mappend(gnsub)\n",
      "File \u001b[0;32m~/miniconda3/envs/SAMap_fix_attempt/lib/python3.10/site-packages/samap/mapping.py:1564\u001b[0m, in \u001b[0;36m_refine_corr_parallel\u001b[0;34m(sams, st, gnnm, gns_dict, corr_mode, THR, use_seq, T1, ncpus, wscale)\u001b[0m\n\u001b[1;32m   1561\u001b[0m \u001b[39mfor\u001b[39;00m sid \u001b[39min\u001b[39;00m sidss:\n\u001b[1;32m   1562\u001b[0m     sixs\u001b[39m.\u001b[39mappend(np\u001b[39m.\u001b[39mwhere(species\u001b[39m==\u001b[39msid)[\u001b[39m0\u001b[39m])\n\u001b[0;32m-> 1564\u001b[0m vals \u001b[39m=\u001b[39m _refine_corr_kernel(p,ps,sidss,sixs,Xavg\u001b[39m.\u001b[39;49mindptr,Xavg\u001b[39m.\u001b[39;49mindices,Xavg\u001b[39m.\u001b[39;49mdata,Xavg\u001b[39m.\u001b[39;49mshape[\u001b[39m0\u001b[39;49m], corr_mode)\n\u001b[1;32m   1565\u001b[0m vals[np\u001b[39m.\u001b[39misnan(vals)]\u001b[39m=\u001b[39m\u001b[39m0\u001b[39m\n\u001b[1;32m   1567\u001b[0m CORR \u001b[39m=\u001b[39m \u001b[39mdict\u001b[39m(\u001b[39mzip\u001b[39m(to_vn(np\u001b[39m.\u001b[39mvstack((gnO[p[:,\u001b[39m0\u001b[39m]],gnO[p[:,\u001b[39m1\u001b[39m]]))\u001b[39m.\u001b[39mT),vals))\n",
      "File \u001b[0;32m~/miniconda3/envs/SAMap_fix_attempt/lib/python3.10/site-packages/numba/core/dispatcher.py:468\u001b[0m, in \u001b[0;36m_DispatcherBase._compile_for_args\u001b[0;34m(self, *args, **kws)\u001b[0m\n\u001b[1;32m    464\u001b[0m         msg \u001b[39m=\u001b[39m (\u001b[39mf\u001b[39m\u001b[39m\"\u001b[39m\u001b[39m{\u001b[39;00m\u001b[39mstr\u001b[39m(e)\u001b[39m.\u001b[39mrstrip()\u001b[39m}\u001b[39;00m\u001b[39m \u001b[39m\u001b[39m\\n\u001b[39;00m\u001b[39m\\n\u001b[39;00m\u001b[39mThis error may have been caused \u001b[39m\u001b[39m\"\u001b[39m\n\u001b[1;32m    465\u001b[0m                \u001b[39mf\u001b[39m\u001b[39m\"\u001b[39m\u001b[39mby the following argument(s):\u001b[39m\u001b[39m\\n\u001b[39;00m\u001b[39m{\u001b[39;00margs_str\u001b[39m}\u001b[39;00m\u001b[39m\\n\u001b[39;00m\u001b[39m\"\u001b[39m)\n\u001b[1;32m    466\u001b[0m         e\u001b[39m.\u001b[39mpatch_message(msg)\n\u001b[0;32m--> 468\u001b[0m     error_rewrite(e, \u001b[39m'\u001b[39;49m\u001b[39mtyping\u001b[39;49m\u001b[39m'\u001b[39;49m)\n\u001b[1;32m    469\u001b[0m \u001b[39mexcept\u001b[39;00m errors\u001b[39m.\u001b[39mUnsupportedError \u001b[39mas\u001b[39;00m e:\n\u001b[1;32m    470\u001b[0m     \u001b[39m# Something unsupported is present in the user code, add help info\u001b[39;00m\n\u001b[1;32m    471\u001b[0m     error_rewrite(e, \u001b[39m'\u001b[39m\u001b[39munsupported_error\u001b[39m\u001b[39m'\u001b[39m)\n",
      "File \u001b[0;32m~/miniconda3/envs/SAMap_fix_attempt/lib/python3.10/site-packages/numba/core/dispatcher.py:409\u001b[0m, in \u001b[0;36m_DispatcherBase._compile_for_args.<locals>.error_rewrite\u001b[0;34m(e, issue_type)\u001b[0m\n\u001b[1;32m    407\u001b[0m     \u001b[39mraise\u001b[39;00m e\n\u001b[1;32m    408\u001b[0m \u001b[39melse\u001b[39;00m:\n\u001b[0;32m--> 409\u001b[0m     \u001b[39mraise\u001b[39;00m e\u001b[39m.\u001b[39mwith_traceback(\u001b[39mNone\u001b[39;00m)\n",
      "\u001b[0;31mTypingError\u001b[0m: Failed in nopython mode pipeline (step: nopython frontend)\nFailed in nopython mode pipeline (step: native lowering)\nCannot cast float64 to [unichr x 2]: double %\"arg.key\"\nDuring: lowering \"castedkey = call $2load_global.0(key, $6load_deref.2, func=$2load_global.0, args=[Var(key, dictobject.py:757), Var($6load_deref.2, dictobject.py:757)], kws=(), vararg=None, varkwarg=None, target=None)\" at /home/passala/miniconda3/envs/SAMap_fix_attempt/lib/python3.10/site-packages/numba/typed/dictobject.py (757)\nDuring: typing of intrinsic-call at /home/passala/miniconda3/envs/SAMap_fix_attempt/lib/python3.10/site-packages/samap/mapping.py (1477)\n\nFile \"../../../../../home/passala/miniconda3/envs/SAMap_fix_attempt/lib/python3.10/site-packages/samap/mapping.py\", line 1477:\ndef _refine_corr_kernel(p, ps, sids, sixs, indptr,indices,data, n, corr_mode):\n    <source elided>\n        a1, a2 = ps1[j], ps2[j]\n        ix1 = d[a1]\n        ^\n"
     ]
    }
   ],
   "source": [
    "sm.run()\n",
    "samap = sm.samap # SAM object with three species stitched together"
   ]
  },
  {
   "cell_type": "code",
   "execution_count": 10,
   "metadata": {},
   "outputs": [
    {
     "name": "stdout",
     "output_type": "stream",
     "text": [
      "Please create a projection first using run_umap orrun_tsne\n"
     ]
    },
    {
     "ename": "UnboundLocalError",
     "evalue": "local variable 'dt' referenced before assignment",
     "output_type": "error",
     "traceback": [
      "\u001b[0;31m---------------------------------------------------------------------------\u001b[0m",
      "\u001b[0;31mUnboundLocalError\u001b[0m                         Traceback (most recent call last)",
      "Cell \u001b[0;32mIn[10], line 1\u001b[0m\n\u001b[0;32m----> 1\u001b[0m sm\u001b[39m.\u001b[39;49mscatter()\n",
      "File \u001b[0;32m~/miniconda3/envs/SAMap_fix_attempt/lib/python3.10/site-packages/samap/mapping.py:582\u001b[0m, in \u001b[0;36mSAMAP.scatter\u001b[0;34m(self, axes, COLORS, ss, **kwargs)\u001b[0m\n\u001b[1;32m    579\u001b[0m         COLORS[sid] \u001b[39m=\u001b[39m s\n\u001b[1;32m    581\u001b[0m \u001b[39mfor\u001b[39;00m sid \u001b[39min\u001b[39;00m \u001b[39mself\u001b[39m\u001b[39m.\u001b[39mids:            \n\u001b[0;32m--> 582\u001b[0m     axes \u001b[39m=\u001b[39m \u001b[39mself\u001b[39;49m\u001b[39m.\u001b[39;49msams[sid]\u001b[39m.\u001b[39;49mscatter(projection \u001b[39m=\u001b[39;49m \u001b[39m'\u001b[39;49m\u001b[39mX_umap_samap\u001b[39;49m\u001b[39m'\u001b[39;49m, colorspec \u001b[39m=\u001b[39;49m COLORS[sid], axes \u001b[39m=\u001b[39;49m axes, s \u001b[39m=\u001b[39;49m ss[sid],colorbar\u001b[39m=\u001b[39;49m\u001b[39mFalse\u001b[39;49;00m,\u001b[39m*\u001b[39;49m\u001b[39m*\u001b[39;49mkwargs)\n\u001b[1;32m    584\u001b[0m \u001b[39mreturn\u001b[39;00m axes\n",
      "File \u001b[0;32m~/miniconda3/envs/SAMap_fix_attempt/lib/python3.10/site-packages/samalg/__init__.py:645\u001b[0m, in \u001b[0;36mSAM.scatter\u001b[0;34m(self, projection, c, colorspec, cmap, linewidth, edgecolor, axes, colorbar, s, **kwargs)\u001b[0m\n\u001b[1;32m    641\u001b[0m     axes \u001b[39m=\u001b[39m plt\u001b[39m.\u001b[39mgca()\n\u001b[1;32m    643\u001b[0m \u001b[39mif\u001b[39;00m colorspec \u001b[39mis\u001b[39;00m \u001b[39mnot\u001b[39;00m \u001b[39mNone\u001b[39;00m:\n\u001b[1;32m    644\u001b[0m     axes\u001b[39m.\u001b[39mscatter(\n\u001b[0;32m--> 645\u001b[0m         dt[:, \u001b[39m0\u001b[39m],\n\u001b[1;32m    646\u001b[0m         dt[:, \u001b[39m1\u001b[39m],\n\u001b[1;32m    647\u001b[0m         s\u001b[39m=\u001b[39ms,\n\u001b[1;32m    648\u001b[0m         linewidth\u001b[39m=\u001b[39mlinewidth,\n\u001b[1;32m    649\u001b[0m         edgecolor\u001b[39m=\u001b[39medgecolor,\n\u001b[1;32m    650\u001b[0m         c\u001b[39m=\u001b[39mcolorspec,\n\u001b[1;32m    651\u001b[0m         \u001b[39m*\u001b[39m\u001b[39m*\u001b[39mkwargs\n\u001b[1;32m    652\u001b[0m     )\n\u001b[1;32m    653\u001b[0m \u001b[39melif\u001b[39;00m c \u001b[39mis\u001b[39;00m \u001b[39mNone\u001b[39;00m:\n\u001b[1;32m    654\u001b[0m     axes\u001b[39m.\u001b[39mscatter(\n\u001b[1;32m    655\u001b[0m         dt[:, \u001b[39m0\u001b[39m],\n\u001b[1;32m    656\u001b[0m         dt[:, \u001b[39m1\u001b[39m],\n\u001b[0;32m   (...)\u001b[0m\n\u001b[1;32m    660\u001b[0m         \u001b[39m*\u001b[39m\u001b[39m*\u001b[39mkwargs\n\u001b[1;32m    661\u001b[0m     )\n",
      "\u001b[0;31mUnboundLocalError\u001b[0m: local variable 'dt' referenced before assignment"
     ]
    },
    {
     "data": {
      "image/png": "[encoded data removed]",
      "text/plain": [
       "<Figure size 640x480 with 1 Axes>"
      ]
     },
     "metadata": {},
     "output_type": "display_data"
    }
   ],
   "source": [
    "sm.scatter()"
   ]
  },
  {
   "cell_type": "code",
   "execution_count": null,
   "metadata": {},
   "outputs": [],
   "source": []
  }
 ],
 "metadata": {
  "kernelspec": {
   "display_name": "SAMap",
   "language": "python",
   "name": "python3"
  },
  "language_info": {
   "codemirror_mode": {
    "name": "ipython",
    "version": 3
   },
   "file_extension": ".py",
   "mimetype": "text/x-python",
   "name": "python",
   "nbconvert_exporter": "python",
   "pygments_lexer": "ipython3",
   "version": "3.10.10"
  },
  "orig_nbformat": 4
 },
 "nbformat": 4,
 "nbformat_minor": 2
}
