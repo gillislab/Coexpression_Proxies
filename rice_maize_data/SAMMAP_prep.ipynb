{
 "cells": [
  {
   "cell_type": "code",
   "execution_count": 1,
   "metadata": {},
   "outputs": [
    {
     "name": "stderr",
     "output_type": "stream",
     "text": [
      "/home/passala/miniconda3/envs/SAMap/lib/python3.7/site-packages/tqdm/auto.py:22: TqdmWarning: IProgress not found. Please update jupyter and ipywidgets. See https://ipywidgets.readthedocs.io/en/stable/user_install.html\n",
      "  from .autonotebook import tqdm as notebook_tqdm\n"
     ]
    }
   ],
   "source": [
    "import pandas as pd\n",
    "#import samap\n",
    "import numpy as np\n",
    "import scanpy as sc"
   ]
  },
  {
   "cell_type": "code",
   "execution_count": 2,
   "metadata": {},
   "outputs": [],
   "source": [
    "np.random.seed(233)"
   ]
  },
  {
   "cell_type": "code",
   "execution_count": 3,
   "metadata": {},
   "outputs": [],
   "source": [
    "A=pd.read_csv('/data/passala/Coexpressolog_paper_data/Sammap_files/blast_maps/maps/ZMOS/OS_to_ZM.txt', sep = '\\t',index_col=0,header=None,)\n",
    "B=pd.read_csv('/data/passala/Coexpressolog_paper_data/Sammap_files/blast_maps/maps/ZMOS/ZM_to_OS.txt', sep = '\\t',index_col=0,header=None,)\n"
   ]
  },
  {
   "cell_type": "code",
   "execution_count": 4,
   "metadata": {},
   "outputs": [],
   "source": [
    "# A[1] = A[1].str.split(\"_\").str[0]\n",
    "# A.index = A.index.str.split(\".\").str[0]\n",
    "# A.to_csv('/data/passala/Coexpressolog_paper_data/Sammap_files/blast_maps/maps/ZMOS/OS_to_ZM.txt',header = False, sep = '\\t')"
   ]
  },
  {
   "cell_type": "code",
   "execution_count": 5,
   "metadata": {},
   "outputs": [
    {
     "data": {
      "text/html": [
       "<div>\n",
       "<style scoped>\n",
       "    .dataframe tbody tr th:only-of-type {\n",
       "        vertical-align: middle;\n",
       "    }\n",
       "\n",
       "    .dataframe tbody tr th {\n",
       "        vertical-align: top;\n",
       "    }\n",
       "\n",
       "    .dataframe thead th {\n",
       "        text-align: right;\n",
       "    }\n",
       "</style>\n",
       "<table border=\"1\" class=\"dataframe\">\n",
       "  <thead>\n",
       "    <tr style=\"text-align: right;\">\n",
       "      <th></th>\n",
       "      <th>1</th>\n",
       "      <th>2</th>\n",
       "      <th>3</th>\n",
       "      <th>4</th>\n",
       "      <th>5</th>\n",
       "      <th>6</th>\n",
       "      <th>7</th>\n",
       "      <th>8</th>\n",
       "      <th>9</th>\n",
       "      <th>10</th>\n",
       "      <th>11</th>\n",
       "    </tr>\n",
       "    <tr>\n",
       "      <th>0</th>\n",
       "      <th></th>\n",
       "      <th></th>\n",
       "      <th></th>\n",
       "      <th></th>\n",
       "      <th></th>\n",
       "      <th></th>\n",
       "      <th></th>\n",
       "      <th></th>\n",
       "      <th></th>\n",
       "      <th></th>\n",
       "      <th></th>\n",
       "    </tr>\n",
       "  </thead>\n",
       "  <tbody>\n",
       "    <tr>\n",
       "      <th>0</th>\n",
       "      <td>LOC_Os12g38000</td>\n",
       "      <td>38.525</td>\n",
       "      <td>122</td>\n",
       "      <td>60</td>\n",
       "      <td>3</td>\n",
       "      <td>1</td>\n",
       "      <td>111</td>\n",
       "      <td>98</td>\n",
       "      <td>215</td>\n",
       "      <td>8.080000e-19</td>\n",
       "      <td>80.9</td>\n",
       "    </tr>\n",
       "    <tr>\n",
       "      <th>1</th>\n",
       "      <td>LOC_Os12g38000</td>\n",
       "      <td>38.596</td>\n",
       "      <td>114</td>\n",
       "      <td>55</td>\n",
       "      <td>3</td>\n",
       "      <td>24</td>\n",
       "      <td>126</td>\n",
       "      <td>106</td>\n",
       "      <td>215</td>\n",
       "      <td>2.310000e-15</td>\n",
       "      <td>72.0</td>\n",
       "    </tr>\n",
       "    <tr>\n",
       "      <th>2</th>\n",
       "      <td>LOC_Os12g38000</td>\n",
       "      <td>38.596</td>\n",
       "      <td>114</td>\n",
       "      <td>55</td>\n",
       "      <td>3</td>\n",
       "      <td>24</td>\n",
       "      <td>126</td>\n",
       "      <td>106</td>\n",
       "      <td>215</td>\n",
       "      <td>1.790000e-14</td>\n",
       "      <td>71.6</td>\n",
       "    </tr>\n",
       "    <tr>\n",
       "      <th>3</th>\n",
       "      <td>LOC_Os12g38000</td>\n",
       "      <td>40.678</td>\n",
       "      <td>118</td>\n",
       "      <td>63</td>\n",
       "      <td>3</td>\n",
       "      <td>296</td>\n",
       "      <td>406</td>\n",
       "      <td>98</td>\n",
       "      <td>215</td>\n",
       "      <td>8.610000e-15</td>\n",
       "      <td>75.1</td>\n",
       "    </tr>\n",
       "    <tr>\n",
       "      <th>4</th>\n",
       "      <td>LOC_Os12g38000</td>\n",
       "      <td>97.701</td>\n",
       "      <td>261</td>\n",
       "      <td>6</td>\n",
       "      <td>0</td>\n",
       "      <td>1</td>\n",
       "      <td>261</td>\n",
       "      <td>1</td>\n",
       "      <td>261</td>\n",
       "      <td>0.000000e+00</td>\n",
       "      <td>523.0</td>\n",
       "    </tr>\n",
       "    <tr>\n",
       "      <th>...</th>\n",
       "      <td>...</td>\n",
       "      <td>...</td>\n",
       "      <td>...</td>\n",
       "      <td>...</td>\n",
       "      <td>...</td>\n",
       "      <td>...</td>\n",
       "      <td>...</td>\n",
       "      <td>...</td>\n",
       "      <td>...</td>\n",
       "      <td>...</td>\n",
       "      <td>...</td>\n",
       "    </tr>\n",
       "    <tr>\n",
       "      <th>5271448</th>\n",
       "      <td>LOC_Os08g23950</td>\n",
       "      <td>23.611</td>\n",
       "      <td>360</td>\n",
       "      <td>181</td>\n",
       "      <td>13</td>\n",
       "      <td>85</td>\n",
       "      <td>426</td>\n",
       "      <td>72</td>\n",
       "      <td>355</td>\n",
       "      <td>2.230000e-08</td>\n",
       "      <td>57.4</td>\n",
       "    </tr>\n",
       "    <tr>\n",
       "      <th>5271449</th>\n",
       "      <td>LOC_Os01g03260</td>\n",
       "      <td>23.704</td>\n",
       "      <td>270</td>\n",
       "      <td>159</td>\n",
       "      <td>10</td>\n",
       "      <td>260</td>\n",
       "      <td>504</td>\n",
       "      <td>190</td>\n",
       "      <td>437</td>\n",
       "      <td>7.190000e-07</td>\n",
       "      <td>52.8</td>\n",
       "    </tr>\n",
       "    <tr>\n",
       "      <th>5271450</th>\n",
       "      <td>LOC_Os05g13480</td>\n",
       "      <td>86.885</td>\n",
       "      <td>61</td>\n",
       "      <td>8</td>\n",
       "      <td>0</td>\n",
       "      <td>85</td>\n",
       "      <td>145</td>\n",
       "      <td>125</td>\n",
       "      <td>185</td>\n",
       "      <td>5.810000e-26</td>\n",
       "      <td>107.0</td>\n",
       "    </tr>\n",
       "    <tr>\n",
       "      <th>5271451</th>\n",
       "      <td>LOC_Os05g13480</td>\n",
       "      <td>86.885</td>\n",
       "      <td>61</td>\n",
       "      <td>8</td>\n",
       "      <td>0</td>\n",
       "      <td>85</td>\n",
       "      <td>145</td>\n",
       "      <td>125</td>\n",
       "      <td>185</td>\n",
       "      <td>1.710000e-26</td>\n",
       "      <td>108.0</td>\n",
       "    </tr>\n",
       "    <tr>\n",
       "      <th>5271452</th>\n",
       "      <td>LOC_Os05g13480</td>\n",
       "      <td>86.885</td>\n",
       "      <td>61</td>\n",
       "      <td>8</td>\n",
       "      <td>0</td>\n",
       "      <td>85</td>\n",
       "      <td>145</td>\n",
       "      <td>125</td>\n",
       "      <td>185</td>\n",
       "      <td>1.480000e-26</td>\n",
       "      <td>108.0</td>\n",
       "    </tr>\n",
       "  </tbody>\n",
       "</table>\n",
       "<p>5271453 rows × 11 columns</p>\n",
       "</div>"
      ],
      "text/plain": [
       "                     1       2    3    4   5    6    7    8    9   \\\n",
       "0                                                                   \n",
       "0        LOC_Os12g38000  38.525  122   60   3    1  111   98  215   \n",
       "1        LOC_Os12g38000  38.596  114   55   3   24  126  106  215   \n",
       "2        LOC_Os12g38000  38.596  114   55   3   24  126  106  215   \n",
       "3        LOC_Os12g38000  40.678  118   63   3  296  406   98  215   \n",
       "4        LOC_Os12g38000  97.701  261    6   0    1  261    1  261   \n",
       "...                 ...     ...  ...  ...  ..  ...  ...  ...  ...   \n",
       "5271448  LOC_Os08g23950  23.611  360  181  13   85  426   72  355   \n",
       "5271449  LOC_Os01g03260  23.704  270  159  10  260  504  190  437   \n",
       "5271450  LOC_Os05g13480  86.885   61    8   0   85  145  125  185   \n",
       "5271451  LOC_Os05g13480  86.885   61    8   0   85  145  125  185   \n",
       "5271452  LOC_Os05g13480  86.885   61    8   0   85  145  125  185   \n",
       "\n",
       "                   10     11  \n",
       "0                             \n",
       "0        8.080000e-19   80.9  \n",
       "1        2.310000e-15   72.0  \n",
       "2        1.790000e-14   71.6  \n",
       "3        8.610000e-15   75.1  \n",
       "4        0.000000e+00  523.0  \n",
       "...               ...    ...  \n",
       "5271448  2.230000e-08   57.4  \n",
       "5271449  7.190000e-07   52.8  \n",
       "5271450  5.810000e-26  107.0  \n",
       "5271451  1.710000e-26  108.0  \n",
       "5271452  1.480000e-26  108.0  \n",
       "\n",
       "[5271453 rows x 11 columns]"
      ]
     },
     "execution_count": 5,
     "metadata": {},
     "output_type": "execute_result"
    }
   ],
   "source": [
    "# B[1] = B[1].str.split(\".\").str[0]\n",
    "# B.index = B.index.str.split(\"_\").str[0]\n",
    "# B.to_csv('/data/passala/Coexpressolog_paper_data/Sammap_files/blast_maps/maps/ZMOS/ZM_to_OS.txt',header = False, sep = '\\t')\n",
    "B"
   ]
  },
  {
   "cell_type": "code",
   "execution_count": 6,
   "metadata": {},
   "outputs": [],
   "source": [
    "# gene_convertor_for_rice = pd.read_csv('/data/passala/Collaborator_Data/GEO_sourced_single_cell_for_CRUSH/Rice_japonica/genome_conversion/cleaned_conversion_with_duplicates.csv')\n",
    "# gene_convertor_for_rice['MSU Format'] = gene_convertor_for_rice['MSU Format'].str.replace('-','_')\n",
    "# gene_convertor_for_rice"
   ]
  },
  {
   "cell_type": "code",
   "execution_count": 7,
   "metadata": {},
   "outputs": [],
   "source": [
    "# A = A.merge(right = gene_convertor_for_rice, left_index=True, right_on='MSU Format')\n",
    "# A"
   ]
  },
  {
   "cell_type": "code",
   "execution_count": 8,
   "metadata": {},
   "outputs": [],
   "source": [
    "# A.index = A['MSU Format']\n",
    "# A.index.names =[0]\n",
    "# A"
   ]
  },
  {
   "cell_type": "code",
   "execution_count": 9,
   "metadata": {},
   "outputs": [],
   "source": [
    "#A = A.drop(columns = ['RAP Format','MSU Format'])\n",
    "#A"
   ]
  },
  {
   "cell_type": "code",
   "execution_count": 10,
   "metadata": {},
   "outputs": [],
   "source": [
    "#A.to_csv('/data/passala/Coexpressolog_paper_data/Sammap_files/blast_maps/maps/ZMOS/OS_to_ZM.txt',header = False, sep = '\\t')"
   ]
  },
  {
   "cell_type": "code",
   "execution_count": 11,
   "metadata": {},
   "outputs": [],
   "source": [
    "# B = B.merge(right = gene_convertor_for_rice, left_on=1, right_on='MSU Format')"
   ]
  },
  {
   "cell_type": "code",
   "execution_count": 12,
   "metadata": {},
   "outputs": [],
   "source": [
    "#B[1] = B['MSU Format']\n",
    "# "
   ]
  },
  {
   "cell_type": "code",
   "execution_count": 13,
   "metadata": {},
   "outputs": [],
   "source": [
    "# B = B.drop(columns = ['RAP Format','MSU Format'])\n",
    "# B"
   ]
  },
  {
   "cell_type": "code",
   "execution_count": 14,
   "metadata": {},
   "outputs": [],
   "source": [
    "#B.to_csv('/data/passala/Coexpressolog_paper_data/Sammap_files/blast_maps/maps/ZMOS/ZM_to_OS.txt',header = False, sep = '\\t')\n"
   ]
  },
  {
   "cell_type": "code",
   "execution_count": 15,
   "metadata": {},
   "outputs": [],
   "source": [
    "rice_sc_data = sc.read_10x_mtx('/home/passala/Temp_directory_for_reading_error_all_stuff_backed_up_if_MP_is_PhD_delete/GEO_sourced_single_cell_for_CRUSH/Rice_japonica/Cell_ranger_results/Rice_paper/outs/filtered_feature_bc_matrix',cache=True)\n",
    "maize_Data = sc.read_10x_mtx('/home/passala/Temp_directory_for_reading_error_all_stuff_backed_up_if_MP_is_PhD_delete/GEO_sourced_single_cell_for_CRUSH/Maize_nitrate_root_SC/Cell_ranger_output_folder/Full_output/cells_with_nitrate/outs/filtered_feature_bc_matrix', cache = True)"
   ]
  },
  {
   "cell_type": "code",
   "execution_count": 16,
   "metadata": {},
   "outputs": [],
   "source": [
    "sc.pp.filter_cells(maize_Data, min_genes=200)\n",
    "sc.pp.filter_cells(rice_sc_data, min_genes=200)"
   ]
  },
  {
   "cell_type": "code",
   "execution_count": 17,
   "metadata": {},
   "outputs": [
    {
     "data": {
      "text/plain": [
       "pandas.core.indexes.base.Index"
      ]
     },
     "execution_count": 17,
     "metadata": {},
     "output_type": "execute_result"
    }
   ],
   "source": [
    "type(maize_Data.obs.index)"
   ]
  },
  {
   "cell_type": "code",
   "execution_count": 18,
   "metadata": {},
   "outputs": [],
   "source": [
    "maize_Data.obs.index = maize_Data.obs.index.astype('str')\n",
    "rice_sc_data.obs.index = rice_sc_data.obs.index.astype('str')"
   ]
  },
  {
   "cell_type": "code",
   "execution_count": 19,
   "metadata": {},
   "outputs": [
    {
     "data": {
      "text/html": [
       "<div>\n",
       "<style scoped>\n",
       "    .dataframe tbody tr th:only-of-type {\n",
       "        vertical-align: middle;\n",
       "    }\n",
       "\n",
       "    .dataframe tbody tr th {\n",
       "        vertical-align: top;\n",
       "    }\n",
       "\n",
       "    .dataframe thead th {\n",
       "        text-align: right;\n",
       "    }\n",
       "</style>\n",
       "<table border=\"1\" class=\"dataframe\">\n",
       "  <thead>\n",
       "    <tr style=\"text-align: right;\">\n",
       "      <th></th>\n",
       "      <th>gene_ids</th>\n",
       "      <th>feature_types</th>\n",
       "    </tr>\n",
       "  </thead>\n",
       "  <tbody>\n",
       "    <tr>\n",
       "      <th>Os01g0100100</th>\n",
       "      <td>Os01g0100100</td>\n",
       "      <td>Gene Expression</td>\n",
       "    </tr>\n",
       "    <tr>\n",
       "      <th>Os01g0100200</th>\n",
       "      <td>Os01g0100200</td>\n",
       "      <td>Gene Expression</td>\n",
       "    </tr>\n",
       "    <tr>\n",
       "      <th>Os01g0100300</th>\n",
       "      <td>Os01g0100300</td>\n",
       "      <td>Gene Expression</td>\n",
       "    </tr>\n",
       "    <tr>\n",
       "      <th>Os01g0100400</th>\n",
       "      <td>Os01g0100400</td>\n",
       "      <td>Gene Expression</td>\n",
       "    </tr>\n",
       "    <tr>\n",
       "      <th>Os01g0100466</th>\n",
       "      <td>Os01g0100466</td>\n",
       "      <td>Gene Expression</td>\n",
       "    </tr>\n",
       "    <tr>\n",
       "      <th>...</th>\n",
       "      <td>...</td>\n",
       "      <td>...</td>\n",
       "    </tr>\n",
       "    <tr>\n",
       "      <th>Os12g0641200</th>\n",
       "      <td>Os12g0641200</td>\n",
       "      <td>Gene Expression</td>\n",
       "    </tr>\n",
       "    <tr>\n",
       "      <th>Os12g0641300</th>\n",
       "      <td>Os12g0641300</td>\n",
       "      <td>Gene Expression</td>\n",
       "    </tr>\n",
       "    <tr>\n",
       "      <th>Os12g0641400</th>\n",
       "      <td>Os12g0641400</td>\n",
       "      <td>Gene Expression</td>\n",
       "    </tr>\n",
       "    <tr>\n",
       "      <th>Os12g0641500</th>\n",
       "      <td>Os12g0641500</td>\n",
       "      <td>Gene Expression</td>\n",
       "    </tr>\n",
       "    <tr>\n",
       "      <th>Os12g0641600</th>\n",
       "      <td>Os12g0641600</td>\n",
       "      <td>Gene Expression</td>\n",
       "    </tr>\n",
       "  </tbody>\n",
       "</table>\n",
       "<p>37863 rows × 2 columns</p>\n",
       "</div>"
      ],
      "text/plain": [
       "                  gene_ids    feature_types\n",
       "Os01g0100100  Os01g0100100  Gene Expression\n",
       "Os01g0100200  Os01g0100200  Gene Expression\n",
       "Os01g0100300  Os01g0100300  Gene Expression\n",
       "Os01g0100400  Os01g0100400  Gene Expression\n",
       "Os01g0100466  Os01g0100466  Gene Expression\n",
       "...                    ...              ...\n",
       "Os12g0641200  Os12g0641200  Gene Expression\n",
       "Os12g0641300  Os12g0641300  Gene Expression\n",
       "Os12g0641400  Os12g0641400  Gene Expression\n",
       "Os12g0641500  Os12g0641500  Gene Expression\n",
       "Os12g0641600  Os12g0641600  Gene Expression\n",
       "\n",
       "[37863 rows x 2 columns]"
      ]
     },
     "execution_count": 19,
     "metadata": {},
     "output_type": "execute_result"
    }
   ],
   "source": [
    "rice_sc_data.var"
   ]
  },
  {
   "cell_type": "code",
   "execution_count": 20,
   "metadata": {},
   "outputs": [
    {
     "data": {
      "text/html": [
       "<div>\n",
       "<style scoped>\n",
       "    .dataframe tbody tr th:only-of-type {\n",
       "        vertical-align: middle;\n",
       "    }\n",
       "\n",
       "    .dataframe tbody tr th {\n",
       "        vertical-align: top;\n",
       "    }\n",
       "\n",
       "    .dataframe thead th {\n",
       "        text-align: right;\n",
       "    }\n",
       "</style>\n",
       "<table border=\"1\" class=\"dataframe\">\n",
       "  <thead>\n",
       "    <tr style=\"text-align: right;\">\n",
       "      <th></th>\n",
       "      <th>RAP Format</th>\n",
       "      <th>MSU Format</th>\n",
       "    </tr>\n",
       "  </thead>\n",
       "  <tbody>\n",
       "    <tr>\n",
       "      <th>0</th>\n",
       "      <td>Os01g0100100</td>\n",
       "      <td>LOC-Os01g01010</td>\n",
       "    </tr>\n",
       "    <tr>\n",
       "      <th>1</th>\n",
       "      <td>Os01g0100200</td>\n",
       "      <td>LOC-Os01g01019</td>\n",
       "    </tr>\n",
       "    <tr>\n",
       "      <th>2</th>\n",
       "      <td>Os01g0100400</td>\n",
       "      <td>LOC-Os01g01030</td>\n",
       "    </tr>\n",
       "    <tr>\n",
       "      <th>3</th>\n",
       "      <td>Os01g0100500</td>\n",
       "      <td>LOC-Os01g01040</td>\n",
       "    </tr>\n",
       "    <tr>\n",
       "      <th>4</th>\n",
       "      <td>Os01g0100600</td>\n",
       "      <td>LOC-Os01g01050</td>\n",
       "    </tr>\n",
       "    <tr>\n",
       "      <th>...</th>\n",
       "      <td>...</td>\n",
       "      <td>...</td>\n",
       "    </tr>\n",
       "    <tr>\n",
       "      <th>33662</th>\n",
       "      <td>Os12g0640900</td>\n",
       "      <td>LOC-Os12g44340</td>\n",
       "    </tr>\n",
       "    <tr>\n",
       "      <th>33663</th>\n",
       "      <td>Os12g0641100</td>\n",
       "      <td>LOC-Os12g44360</td>\n",
       "    </tr>\n",
       "    <tr>\n",
       "      <th>33664</th>\n",
       "      <td>Os12g0641300</td>\n",
       "      <td>LOC-Os12g44370</td>\n",
       "    </tr>\n",
       "    <tr>\n",
       "      <th>33665</th>\n",
       "      <td>Os12g0641400</td>\n",
       "      <td>LOC-Os12g44380</td>\n",
       "    </tr>\n",
       "    <tr>\n",
       "      <th>33666</th>\n",
       "      <td>Os12g0641500</td>\n",
       "      <td>LOC-Os12g44390</td>\n",
       "    </tr>\n",
       "  </tbody>\n",
       "</table>\n",
       "<p>33667 rows × 2 columns</p>\n",
       "</div>"
      ],
      "text/plain": [
       "         RAP Format      MSU Format\n",
       "0      Os01g0100100  LOC-Os01g01010\n",
       "1      Os01g0100200  LOC-Os01g01019\n",
       "2      Os01g0100400  LOC-Os01g01030\n",
       "3      Os01g0100500  LOC-Os01g01040\n",
       "4      Os01g0100600  LOC-Os01g01050\n",
       "...             ...             ...\n",
       "33662  Os12g0640900  LOC-Os12g44340\n",
       "33663  Os12g0641100  LOC-Os12g44360\n",
       "33664  Os12g0641300  LOC-Os12g44370\n",
       "33665  Os12g0641400  LOC-Os12g44380\n",
       "33666  Os12g0641500  LOC-Os12g44390\n",
       "\n",
       "[33667 rows x 2 columns]"
      ]
     },
     "execution_count": 20,
     "metadata": {},
     "output_type": "execute_result"
    }
   ],
   "source": [
    "gene_convertor_for_rice = pd.read_csv('/data/passala/Collaborator_Data/GEO_sourced_single_cell_for_CRUSH/Rice_japonica/genome_conversion/cleaned_conversion_with_duplicates.csv')\n",
    "gene_convertor_for_rice"
   ]
  },
  {
   "cell_type": "code",
   "execution_count": 21,
   "metadata": {},
   "outputs": [
    {
     "name": "stderr",
     "output_type": "stream",
     "text": [
      "/home/passala/miniconda3/envs/SAMap/lib/python3.7/site-packages/anndata/_core/anndata.py:801: UserWarning: \n",
      "AnnData expects .var.index to contain strings, but got values like:\n",
      "    [0.0, 1.0, nan, 2.0, nan]\n",
      "\n",
      "    Inferred to be: floating\n",
      "\n",
      "  value_idx = self._prep_dim_index(value.index, attr)\n"
     ]
    },
    {
     "data": {
      "text/plain": [
       "AnnData object with n_obs × n_vars = 14943 × 37863\n",
       "    obs: 'n_genes'\n",
       "    var: 'gene_ids', 'feature_types', 'RAP Format', 'MSU Format'"
      ]
     },
     "execution_count": 21,
     "metadata": {},
     "output_type": "execute_result"
    }
   ],
   "source": [
    "rice_sc_data.var = rice_sc_data.var.merge(right = gene_convertor_for_rice, left_index= True, right_on = 'RAP Format', how = 'left')\n",
    "rice_sc_data"
   ]
  },
  {
   "cell_type": "code",
   "execution_count": 22,
   "metadata": {},
   "outputs": [],
   "source": [
    "rice_sc_data.var = rice_sc_data.var.set_index('MSU Format', drop= True)"
   ]
  },
  {
   "cell_type": "code",
   "execution_count": 23,
   "metadata": {},
   "outputs": [
    {
     "data": {
      "text/html": [
       "<div>\n",
       "<style scoped>\n",
       "    .dataframe tbody tr th:only-of-type {\n",
       "        vertical-align: middle;\n",
       "    }\n",
       "\n",
       "    .dataframe tbody tr th {\n",
       "        vertical-align: top;\n",
       "    }\n",
       "\n",
       "    .dataframe thead th {\n",
       "        text-align: right;\n",
       "    }\n",
       "</style>\n",
       "<table border=\"1\" class=\"dataframe\">\n",
       "  <thead>\n",
       "    <tr style=\"text-align: right;\">\n",
       "      <th></th>\n",
       "      <th>gene_ids</th>\n",
       "      <th>feature_types</th>\n",
       "      <th>RAP Format</th>\n",
       "    </tr>\n",
       "    <tr>\n",
       "      <th>MSU Format</th>\n",
       "      <th></th>\n",
       "      <th></th>\n",
       "      <th></th>\n",
       "    </tr>\n",
       "  </thead>\n",
       "  <tbody>\n",
       "    <tr>\n",
       "      <th>LOC-Os01g01010</th>\n",
       "      <td>Os01g0100100</td>\n",
       "      <td>Gene Expression</td>\n",
       "      <td>Os01g0100100</td>\n",
       "    </tr>\n",
       "    <tr>\n",
       "      <th>LOC-Os01g01019</th>\n",
       "      <td>Os01g0100200</td>\n",
       "      <td>Gene Expression</td>\n",
       "      <td>Os01g0100200</td>\n",
       "    </tr>\n",
       "    <tr>\n",
       "      <th>NaN</th>\n",
       "      <td>Os01g0100300</td>\n",
       "      <td>Gene Expression</td>\n",
       "      <td>Os01g0100300</td>\n",
       "    </tr>\n",
       "    <tr>\n",
       "      <th>LOC-Os01g01030</th>\n",
       "      <td>Os01g0100400</td>\n",
       "      <td>Gene Expression</td>\n",
       "      <td>Os01g0100400</td>\n",
       "    </tr>\n",
       "    <tr>\n",
       "      <th>NaN</th>\n",
       "      <td>Os01g0100466</td>\n",
       "      <td>Gene Expression</td>\n",
       "      <td>Os01g0100466</td>\n",
       "    </tr>\n",
       "    <tr>\n",
       "      <th>...</th>\n",
       "      <td>...</td>\n",
       "      <td>...</td>\n",
       "      <td>...</td>\n",
       "    </tr>\n",
       "    <tr>\n",
       "      <th>NaN</th>\n",
       "      <td>Os12g0641200</td>\n",
       "      <td>Gene Expression</td>\n",
       "      <td>Os12g0641200</td>\n",
       "    </tr>\n",
       "    <tr>\n",
       "      <th>LOC-Os12g44370</th>\n",
       "      <td>Os12g0641300</td>\n",
       "      <td>Gene Expression</td>\n",
       "      <td>Os12g0641300</td>\n",
       "    </tr>\n",
       "    <tr>\n",
       "      <th>LOC-Os12g44380</th>\n",
       "      <td>Os12g0641400</td>\n",
       "      <td>Gene Expression</td>\n",
       "      <td>Os12g0641400</td>\n",
       "    </tr>\n",
       "    <tr>\n",
       "      <th>LOC-Os12g44390</th>\n",
       "      <td>Os12g0641500</td>\n",
       "      <td>Gene Expression</td>\n",
       "      <td>Os12g0641500</td>\n",
       "    </tr>\n",
       "    <tr>\n",
       "      <th>NaN</th>\n",
       "      <td>Os12g0641600</td>\n",
       "      <td>Gene Expression</td>\n",
       "      <td>Os12g0641600</td>\n",
       "    </tr>\n",
       "  </tbody>\n",
       "</table>\n",
       "<p>37863 rows × 3 columns</p>\n",
       "</div>"
      ],
      "text/plain": [
       "                    gene_ids    feature_types    RAP Format\n",
       "MSU Format                                                 \n",
       "LOC-Os01g01010  Os01g0100100  Gene Expression  Os01g0100100\n",
       "LOC-Os01g01019  Os01g0100200  Gene Expression  Os01g0100200\n",
       "NaN             Os01g0100300  Gene Expression  Os01g0100300\n",
       "LOC-Os01g01030  Os01g0100400  Gene Expression  Os01g0100400\n",
       "NaN             Os01g0100466  Gene Expression  Os01g0100466\n",
       "...                      ...              ...           ...\n",
       "NaN             Os12g0641200  Gene Expression  Os12g0641200\n",
       "LOC-Os12g44370  Os12g0641300  Gene Expression  Os12g0641300\n",
       "LOC-Os12g44380  Os12g0641400  Gene Expression  Os12g0641400\n",
       "LOC-Os12g44390  Os12g0641500  Gene Expression  Os12g0641500\n",
       "NaN             Os12g0641600  Gene Expression  Os12g0641600\n",
       "\n",
       "[37863 rows x 3 columns]"
      ]
     },
     "execution_count": 23,
     "metadata": {},
     "output_type": "execute_result"
    }
   ],
   "source": [
    "rice_sc_data.var"
   ]
  },
  {
   "cell_type": "code",
   "execution_count": 24,
   "metadata": {},
   "outputs": [],
   "source": [
    "rice_sc_data = rice_sc_data[:,~rice_sc_data.var.index.isna()]"
   ]
  },
  {
   "cell_type": "code",
   "execution_count": 25,
   "metadata": {},
   "outputs": [],
   "source": [
    "rice_sc_data.var.index = rice_sc_data.var.index.str.replace('-','_')"
   ]
  },
  {
   "cell_type": "code",
   "execution_count": 26,
   "metadata": {},
   "outputs": [
    {
     "data": {
      "text/html": [
       "<div>\n",
       "<style scoped>\n",
       "    .dataframe tbody tr th:only-of-type {\n",
       "        vertical-align: middle;\n",
       "    }\n",
       "\n",
       "    .dataframe tbody tr th {\n",
       "        vertical-align: top;\n",
       "    }\n",
       "\n",
       "    .dataframe thead th {\n",
       "        text-align: right;\n",
       "    }\n",
       "</style>\n",
       "<table border=\"1\" class=\"dataframe\">\n",
       "  <thead>\n",
       "    <tr style=\"text-align: right;\">\n",
       "      <th></th>\n",
       "      <th>gene_ids</th>\n",
       "      <th>feature_types</th>\n",
       "      <th>RAP Format</th>\n",
       "    </tr>\n",
       "    <tr>\n",
       "      <th>MSU Format</th>\n",
       "      <th></th>\n",
       "      <th></th>\n",
       "      <th></th>\n",
       "    </tr>\n",
       "  </thead>\n",
       "  <tbody>\n",
       "    <tr>\n",
       "      <th>LOC_Os01g01010</th>\n",
       "      <td>Os01g0100100</td>\n",
       "      <td>Gene Expression</td>\n",
       "      <td>Os01g0100100</td>\n",
       "    </tr>\n",
       "    <tr>\n",
       "      <th>LOC_Os01g01019</th>\n",
       "      <td>Os01g0100200</td>\n",
       "      <td>Gene Expression</td>\n",
       "      <td>Os01g0100200</td>\n",
       "    </tr>\n",
       "    <tr>\n",
       "      <th>LOC_Os01g01030</th>\n",
       "      <td>Os01g0100400</td>\n",
       "      <td>Gene Expression</td>\n",
       "      <td>Os01g0100400</td>\n",
       "    </tr>\n",
       "    <tr>\n",
       "      <th>LOC_Os01g01040</th>\n",
       "      <td>Os01g0100500</td>\n",
       "      <td>Gene Expression</td>\n",
       "      <td>Os01g0100500</td>\n",
       "    </tr>\n",
       "    <tr>\n",
       "      <th>LOC_Os01g01050</th>\n",
       "      <td>Os01g0100600</td>\n",
       "      <td>Gene Expression</td>\n",
       "      <td>Os01g0100600</td>\n",
       "    </tr>\n",
       "    <tr>\n",
       "      <th>...</th>\n",
       "      <td>...</td>\n",
       "      <td>...</td>\n",
       "      <td>...</td>\n",
       "    </tr>\n",
       "    <tr>\n",
       "      <th>LOC_Os12g44340</th>\n",
       "      <td>Os12g0640900</td>\n",
       "      <td>Gene Expression</td>\n",
       "      <td>Os12g0640900</td>\n",
       "    </tr>\n",
       "    <tr>\n",
       "      <th>LOC_Os12g44360</th>\n",
       "      <td>Os12g0641100</td>\n",
       "      <td>Gene Expression</td>\n",
       "      <td>Os12g0641100</td>\n",
       "    </tr>\n",
       "    <tr>\n",
       "      <th>LOC_Os12g44370</th>\n",
       "      <td>Os12g0641300</td>\n",
       "      <td>Gene Expression</td>\n",
       "      <td>Os12g0641300</td>\n",
       "    </tr>\n",
       "    <tr>\n",
       "      <th>LOC_Os12g44380</th>\n",
       "      <td>Os12g0641400</td>\n",
       "      <td>Gene Expression</td>\n",
       "      <td>Os12g0641400</td>\n",
       "    </tr>\n",
       "    <tr>\n",
       "      <th>LOC_Os12g44390</th>\n",
       "      <td>Os12g0641500</td>\n",
       "      <td>Gene Expression</td>\n",
       "      <td>Os12g0641500</td>\n",
       "    </tr>\n",
       "  </tbody>\n",
       "</table>\n",
       "<p>29169 rows × 3 columns</p>\n",
       "</div>"
      ],
      "text/plain": [
       "                    gene_ids    feature_types    RAP Format\n",
       "MSU Format                                                 \n",
       "LOC_Os01g01010  Os01g0100100  Gene Expression  Os01g0100100\n",
       "LOC_Os01g01019  Os01g0100200  Gene Expression  Os01g0100200\n",
       "LOC_Os01g01030  Os01g0100400  Gene Expression  Os01g0100400\n",
       "LOC_Os01g01040  Os01g0100500  Gene Expression  Os01g0100500\n",
       "LOC_Os01g01050  Os01g0100600  Gene Expression  Os01g0100600\n",
       "...                      ...              ...           ...\n",
       "LOC_Os12g44340  Os12g0640900  Gene Expression  Os12g0640900\n",
       "LOC_Os12g44360  Os12g0641100  Gene Expression  Os12g0641100\n",
       "LOC_Os12g44370  Os12g0641300  Gene Expression  Os12g0641300\n",
       "LOC_Os12g44380  Os12g0641400  Gene Expression  Os12g0641400\n",
       "LOC_Os12g44390  Os12g0641500  Gene Expression  Os12g0641500\n",
       "\n",
       "[29169 rows x 3 columns]"
      ]
     },
     "execution_count": 26,
     "metadata": {},
     "output_type": "execute_result"
    }
   ],
   "source": [
    "rice_sc_data.var"
   ]
  },
  {
   "cell_type": "code",
   "execution_count": 35,
   "metadata": {},
   "outputs": [],
   "source": [
    "rice_sc_data.var_names_make_unique()"
   ]
  },
  {
   "cell_type": "code",
   "execution_count": 36,
   "metadata": {},
   "outputs": [],
   "source": [
    "maize_Data.write_h5ad('/home/passala/Temp_directory_for_reading_error_all_stuff_backed_up_if_MP_is_PhD_delete/GEO_sourced_single_cell_for_CRUSH/SAMMAP_stuff/maize_full_sc.h5ad')\n",
    "rice_sc_data.write_h5ad('/home/passala/Temp_directory_for_reading_error_all_stuff_backed_up_if_MP_is_PhD_delete/GEO_sourced_single_cell_for_CRUSH/SAMMAP_stuff/rice_full_sc.h5ad')"
   ]
  },
  {
   "cell_type": "code",
   "execution_count": 37,
   "metadata": {},
   "outputs": [],
   "source": [
    "maize_labels = pd.read_csv('/data/passala/Coexpressolog_paper_data/Sammap_files/blast_maps/single_cell_labels/maize_labels.csv', index_col=0)\n",
    "rice_labels = pd.read_csv('/data/passala/Coexpressolog_paper_data/Sammap_files/blast_maps/single_cell_labels/rice_ultra_trimmed.csv', index_col=0)"
   ]
  },
  {
   "cell_type": "code",
   "execution_count": 38,
   "metadata": {},
   "outputs": [
    {
     "data": {
      "text/plain": [
       "View of AnnData object with n_obs × n_vars = 3500 × 29169\n",
       "    obs: 'n_genes'\n",
       "    var: 'gene_ids', 'feature_types', 'RAP Format'"
      ]
     },
     "execution_count": 38,
     "metadata": {},
     "output_type": "execute_result"
    }
   ],
   "source": [
    "rice_sc_data = rice_sc_data[rice_sc_data.obs.index.isin(rice_labels.index),:]\n",
    "rice_sc_data"
   ]
  },
  {
   "cell_type": "code",
   "execution_count": 39,
   "metadata": {},
   "outputs": [
    {
     "data": {
      "text/plain": [
       "View of AnnData object with n_obs × n_vars = 2832 × 46430\n",
       "    obs: 'n_genes'\n",
       "    var: 'gene_ids', 'feature_types'"
      ]
     },
     "execution_count": 39,
     "metadata": {},
     "output_type": "execute_result"
    }
   ],
   "source": [
    "maize_Data = maize_Data[maize_Data.obs.index.isin(maize_labels.index),:]\n",
    "maize_Data"
   ]
  },
  {
   "cell_type": "code",
   "execution_count": 40,
   "metadata": {},
   "outputs": [],
   "source": [
    "maize_Data.write_h5ad('/home/passala/Temp_directory_for_reading_error_all_stuff_backed_up_if_MP_is_PhD_delete/GEO_sourced_single_cell_for_CRUSH/SAMMAP_stuff/maize_filtered_sc.h5ad')"
   ]
  },
  {
   "cell_type": "code",
   "execution_count": 41,
   "metadata": {},
   "outputs": [],
   "source": [
    "rice_sc_data.write_h5ad('/home/passala/Temp_directory_for_reading_error_all_stuff_backed_up_if_MP_is_PhD_delete/GEO_sourced_single_cell_for_CRUSH/SAMMAP_stuff/rice_filtered_sc.h5ad')"
   ]
  },
  {
   "cell_type": "code",
   "execution_count": null,
   "metadata": {},
   "outputs": [],
   "source": []
  }
 ],
 "metadata": {
  "kernelspec": {
   "display_name": "SAMap",
   "language": "python",
   "name": "python3"
  },
  "language_info": {
   "codemirror_mode": {
    "name": "ipython",
    "version": 3
   },
   "file_extension": ".py",
   "mimetype": "text/x-python",
   "name": "python",
   "nbconvert_exporter": "python",
   "pygments_lexer": "ipython3",
   "version": "3.7.12"
  },
  "orig_nbformat": 4
 },
 "nbformat": 4,
 "nbformat_minor": 2
}
