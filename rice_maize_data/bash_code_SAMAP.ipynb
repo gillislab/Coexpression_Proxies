{
 "cells": [
  {
   "cell_type": "code",
   "execution_count": null,
   "metadata": {},
   "outputs": [],
   "source": []
  },
  {
   "cell_type": "code",
   "execution_count": null,
   "metadata": {},
   "outputs": [],
   "source": []
  },
  {
   "attachments": {},
   "cell_type": "markdown",
   "metadata": {},
   "source": [
    "bash map_genes.sh --tr1 /data/passala/Coexpressolog_paper_data/Sammap_files/blast_maps/maize_proteome.fa --t1 prot --n1 ZM --tr2 /data/passala/Coexpressolog_paper_data/Sammap_files/blast_maps/rice_proteome.pep --t2 prot --n2 OS --threads 32"
   ]
  },
  {
   "cell_type": "markdown",
   "metadata": {},
   "source": []
  }
 ],
 "metadata": {
  "language_info": {
   "name": "python"
  },
  "orig_nbformat": 4
 },
 "nbformat": 4,
 "nbformat_minor": 2
}
