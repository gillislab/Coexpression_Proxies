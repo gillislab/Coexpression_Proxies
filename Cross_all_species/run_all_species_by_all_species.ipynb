{
 "cells": [
  {
   "cell_type": "code",
   "execution_count": 24,
   "metadata": {},
   "outputs": [],
   "source": [
    "import pandas as pd\n",
    "import CococoNet_reader \n",
    "import itertools\n",
    "import numpy as np\n",
    "import Name_resolver\n",
    "import warnings"
   ]
  },
  {
   "cell_type": "code",
   "execution_count": 6,
   "metadata": {},
   "outputs": [],
   "source": [
    "def Calculate_Score_list_for_thresholding(Species_1 = 'rice',Species_2 = 'maize'):\n",
    "\n",
    "    import pandas as pd\n",
    "    import CococoNet_reader\n",
    "    #Get Species Names in Common form \n",
    "    common_name_1 = Name_resolver.species_name_resolver(Species_1,'common')\n",
    "    common_name_2 = Name_resolver.species_name_resolver(Species_2,'common')\n",
    "\n",
    "\n",
    "    matrix_of_locations = pd.read_csv('/data/passala/git/Coexpressalog_Method_Development/Cross_all_species/map_of_ortholog_map_locations.csv', index_col= 0)#List of cross species maps\n",
    "    current_location = matrix_of_locations[common_name_1][common_name_2] #get string for map\n",
    "    \n",
    "    cross_species_n_m_genes = pd.read_csv(current_location)\n",
    "\n",
    "    ### Get one to ones\n",
    "    cross_species_map_one_to_one = cross_species_n_m_genes.drop_duplicates(subset=common_name_1, keep= False,)\n",
    "    cross_species_map_one_to_one = cross_species_map_one_to_one.drop_duplicates(subset= common_name_2, keep= False)\n",
    "\n",
    "    ## Convert to Dictionary\n",
    "    dictionary_mapper_one_to_two = cross_species_map_one_to_one.set_index(common_name_1).to_dict()[common_name_2]\n",
    "    dictionary_mapper_dos_to_uno = cross_species_map_one_to_one.set_index(common_name_2).to_dict()[common_name_1]\n",
    "\n",
    "    ## Read In Cococonets \n",
    "    coconet_species_one = CococoNet_reader.read_cococonet(common_name_1)\n",
    "    coconet_species_two = CococoNet_reader.read_cococonet(common_name_2)\n",
    "\n",
    "    cross_species_n_m_genes['Group ID'] = 'Unassigned'\n",
    "    \n",
    "\n",
    "    ## Assign Genes to Groups\n",
    "    id_indexer = 0\n",
    "    for gene_pair in cross_species_n_m_genes.iterrows():\n",
    "        \n",
    "        if gene_pair[1]['Group ID'] == 'Unassigned':\n",
    "            current_species_1_gene = gene_pair[1][common_name_1]\n",
    "            current_species_2_gene = gene_pair[1][common_name_2]\n",
    "            cross_species_n_m_genes['Group ID'].loc[(cross_species_n_m_genes[common_name_1] == current_species_1_gene) & (cross_species_n_m_genes['Group ID'] == 'Unassigned')] = id_indexer\n",
    "            cross_species_n_m_genes['Group ID'].loc[(cross_species_n_m_genes[common_name_2] == current_species_2_gene) & (cross_species_n_m_genes['Group ID'] == 'Unassigned')] = id_indexer\n",
    "\n",
    "            all_labeled_groups = cross_species_n_m_genes.loc[cross_species_n_m_genes['Group ID'] == id_indexer]\n",
    "\n",
    "            all_labeled_groups_species_1_genes = all_labeled_groups[common_name_1].to_list()\n",
    "            all_labeled_groups_species_2_genes = all_labeled_groups[common_name_2].to_list()\n",
    "\n",
    "            cross_species_n_m_genes['Group ID'].loc[cross_species_n_m_genes[common_name_1].isin(all_labeled_groups_species_1_genes)] = id_indexer\n",
    "            cross_species_n_m_genes['Group ID'].loc[cross_species_n_m_genes[common_name_2].isin(all_labeled_groups_species_2_genes)] = id_indexer\n",
    "\n",
    "            id_indexer += 1\n",
    "\n",
    "\n",
    "\n",
    "    #Identify Pairs for evaluation\n",
    "    all_pairs_to_evaluate_for_functional_conservation = pd.DataFrame(columns = [common_name_1,common_name_2,'Group Number'])\n",
    "    for group_number in list(set(cross_species_n_m_genes['Group ID'].to_list())):\n",
    "        current_gene_map = cross_species_n_m_genes.loc[cross_species_n_m_genes['Group ID'] == group_number]\n",
    "        list_of_species_1_genes_in_group = list(set(current_gene_map[common_name_1].to_list()))\n",
    "        list_of_species_2_genes_in_group = list(set(current_gene_map[common_name_2].to_list()))\n",
    "        all_combo_list_current_genes = itertools.product(list_of_species_1_genes_in_group,list_of_species_2_genes_in_group)\n",
    "        all_combo_list_current_genes = list(map(list,all_combo_list_current_genes))\n",
    "        current_list_of_pairs = pd.DataFrame(all_combo_list_current_genes,columns = [Species_1,Species_2])\n",
    "        current_list_of_pairs['Group Number'] = group_number\n",
    "        all_pairs_to_evaluate_for_functional_conservation = all_pairs_to_evaluate_for_functional_conservation.append(current_list_of_pairs)\n",
    "\n",
    "\n",
    "    \n",
    "    all_pairs_to_evaluate_for_functional_conservation['Species 1 Score'] = np.nan\n",
    "    all_pairs_to_evaluate_for_functional_conservation['Species 2 Score'] = np.nan\n",
    "\n",
    "\n",
    "    ## Trim cococonets to match\n",
    "\n",
    "\n",
    "    trimmed_species_1_cococonet = coconet_species_one[coconet_species_one.columns.intersection(cross_species_n_m_genes[common_name_1].to_list())]\n",
    "    trimmed_species_1_cococonet = trimmed_species_1_cococonet[trimmed_species_1_cococonet.index.isin(cross_species_n_m_genes[common_name_1].to_list())]\n",
    "    double_species_1_trimmed_cococonet = trimmed_species_1_cococonet[trimmed_species_1_cococonet.columns.intersection(cross_species_map_one_to_one[common_name_1].to_list())]\n",
    "    double_species_1_trimmed_cococonet = double_species_1_trimmed_cococonet.replace(1,0)\n",
    "\n",
    "    trimmed_species_2_cococonet = coconet_species_two[coconet_species_two.columns.intersection(cross_species_n_m_genes[common_name_2].to_list())]\n",
    "    trimmed_species_2_cococonet = trimmed_species_2_cococonet[trimmed_species_2_cococonet.index.isin(cross_species_n_m_genes[common_name_2].to_list())]\n",
    "    double_species_2_trimmed_cococonet = trimmed_species_2_cococonet[trimmed_species_2_cococonet.columns.intersection(cross_species_map_one_to_one[common_name_2].to_list())]\n",
    "    double_species_2_trimmed_cococonet = double_species_2_trimmed_cococonet.replace(1,0)\n",
    "\n",
    "\n",
    "    ## Rank\n",
    "    species_1_cococonet_ranked = trimmed_species_1_cococonet.rank()\n",
    "    species_2_cococonet_ranked = trimmed_species_2_cococonet.rank()\n",
    "\n",
    "    #Do top 10 Genes\n",
    "    top_10_species_1_genes = np.array(\n",
    "        [double_species_1_trimmed_cococonet.T[c].nlargest(10).index.values for c in double_species_1_trimmed_cococonet.T]\n",
    "    )  # using pair list above, cut down top 10 list to relevant genes, probably by adding list as a column in panda and then filtering panda to index of pair list\n",
    "    top_10_species_1_genes_dataframe = pd.DataFrame(\n",
    "        data=top_10_species_1_genes,\n",
    "        index=double_species_1_trimmed_cococonet.index,\n",
    "        columns=[\n",
    "            \"One\",\n",
    "            \"Two\",\n",
    "            \"Three\",\n",
    "            \"Four\",\n",
    "            \"Five\",\n",
    "            \"Six\",\n",
    "            \"Seven\",\n",
    "            \"Eight\",\n",
    "            \"Nine\",\n",
    "            \"Ten\",\n",
    "        ],\n",
    "    )\n",
    "\n",
    "    #Convert \n",
    "    top_10_species_1_genes_as_species_2 = top_10_species_1_genes_dataframe.replace(to_replace=dictionary_mapper_one_to_two)\n",
    "\n",
    "    # Get genes for checking \n",
    "    have_species_1_pairs = all_pairs_to_evaluate_for_functional_conservation.loc[all_pairs_to_evaluate_for_functional_conservation[common_name_1].isin(top_10_species_1_genes_as_species_2.index)]\n",
    "    trimmed_all_gene_pairs_for_fc = have_species_1_pairs.loc[have_species_1_pairs[common_name_2].isin(trimmed_species_2_cococonet.index)]\n",
    "    trimmed_all_gene_pairs_for_fc = trimmed_all_gene_pairs_for_fc.reset_index(drop = True)\n",
    "\n",
    "    # Get values in species 2 \n",
    "    for two_genes in trimmed_all_gene_pairs_for_fc.iterrows():\n",
    "        current_species_1_gene = two_genes[1][common_name_1]\n",
    "        current_species_2_gene = two_genes[1][common_name_2]\n",
    "        finger_print_genes = top_10_species_1_genes_as_species_2.loc[current_species_1_gene].to_list()\n",
    "        gene_ranks_in_species_2 = species_2_cococonet_ranked.loc[species_2_cococonet_ranked.index.isin(finger_print_genes), current_species_2_gene]\n",
    "        avg_rank_in_species_2 = gene_ranks_in_species_2.mean()\n",
    "        index_from_pairs = two_genes[0]\n",
    "        trimmed_all_gene_pairs_for_fc.at[index_from_pairs, 'Species 1 Score'] = avg_rank_in_species_2\n",
    "\n",
    "    #Repeat for Species 2 \n",
    "\n",
    "    top_10_species_2_genes = np.array(\n",
    "        [double_species_2_trimmed_cococonet.T[c].nlargest(10).index.values for c in double_species_2_trimmed_cococonet.T]\n",
    "    )  # using pair list above, cut down top 10 list to relevant genes, probably by adding list as a column in panda and then filtering panda to index of pair list\n",
    "    top_10_species_2_genes_dataframe = pd.DataFrame(\n",
    "        data=top_10_species_2_genes,\n",
    "        index=double_species_2_trimmed_cococonet.index,\n",
    "        columns=[\n",
    "            \"One\",\n",
    "            \"Two\",\n",
    "            \"Three\",\n",
    "            \"Four\",\n",
    "            \"Five\",\n",
    "            \"Six\",\n",
    "            \"Seven\",\n",
    "            \"Eight\",\n",
    "            \"Nine\",\n",
    "            \"Ten\",\n",
    "        ],\n",
    "    )\n",
    "    \n",
    "\n",
    "    #convert \n",
    "    top_10_species_2_genes_as_species_1 = top_10_species_2_genes_dataframe.replace(to_replace=dictionary_mapper_dos_to_uno)\n",
    "\n",
    "\n",
    "    # Get values in species 1 \n",
    "    for two_genes in trimmed_all_gene_pairs_for_fc.iterrows():\n",
    "        current_species_1_gene = two_genes[1][common_name_1]\n",
    "        current_species_2_gene = two_genes[1][common_name_2]\n",
    "        finger_print_genes = top_10_species_2_genes_as_species_1.loc[current_species_2_gene].to_list()\n",
    "        gene_ranks_in_species_1 = species_1_cococonet_ranked.loc[species_1_cococonet_ranked.index.isin(finger_print_genes), current_species_1_gene]\n",
    "        avg_rank_in_species_1 = gene_ranks_in_species_1.mean()\n",
    "        index_from_pairs = two_genes[0]\n",
    "        trimmed_all_gene_pairs_for_fc.loc[index_from_pairs, 'Species 2 Score'] = avg_rank_in_species_1\n",
    "    \n",
    "    #Caluclate Divisors \n",
    "    Number_of_species_1_genes = len(top_10_species_1_genes_as_species_2)\n",
    "    Number_of_species_2_genes = len(top_10_species_2_genes_as_species_1)\n",
    "\n",
    "\n",
    "    species_1_score_divisor = Number_of_species_2_genes - 4.5\n",
    "    species_2_score_divisor = Number_of_species_1_genes-4.5\n",
    "\n",
    "    #Divide and Average \n",
    "    trimmed_all_gene_pairs_for_fc['Species 1 Score'] = trimmed_all_gene_pairs_for_fc['Species 1 Score']/species_1_score_divisor\n",
    "    trimmed_all_gene_pairs_for_fc['Species 2 Score'] = trimmed_all_gene_pairs_for_fc['Species 2 Score']/species_2_score_divisor\n",
    "    trimmed_all_gene_pairs_for_fc['Total Score'] = trimmed_all_gene_pairs_for_fc[['Species 1 Score','Species 2 Score']].mean(axis = 1)\n",
    "    \n",
    "    return trimmed_all_gene_pairs_for_fc\n",
    "    "
   ]
  },
  {
   "cell_type": "code",
   "execution_count": 7,
   "metadata": {},
   "outputs": [],
   "source": [
    "def Threshold_and_generate_coexpressalog_list(trimmed_all_gene_pairs_for_fc, single_pair_junk_threshold = .8, many_to_many_junk_threshold = .85,difference_between_many_to_drop = .03):\n",
    "    \n",
    "    \n",
    "    list_of_true_pairs = []\n",
    "    list_of_genes_to_average_and_set_to_be_equal = []\n",
    "\n",
    "\n",
    "    common_name_1 = trimmed_all_gene_pairs_for_fc.columns[0]\n",
    "    common_name_2 = trimmed_all_gene_pairs_for_fc.columns[1]\n",
    "\n",
    "    for current_group in list(set(trimmed_all_gene_pairs_for_fc['Group Number'].to_list())):\n",
    "        dataframe_of_group = trimmed_all_gene_pairs_for_fc.loc[trimmed_all_gene_pairs_for_fc['Group Number'] == current_group]\n",
    "        dataframe_of_group = dataframe_of_group[[common_name_1,common_name_2,'Total Score']]\n",
    "        wide_format = dataframe_of_group.pivot(index = common_name_1,columns= common_name_2,values= 'Total Score')\n",
    "        if (wide_format<single_pair_junk_threshold).all(axis = None):\n",
    "            continue\n",
    "        elif wide_format.shape ==(0,0):\n",
    "            continue\n",
    "        elif wide_format.shape == (1,1): # Group is 1 to 1, retain Format: Arabidopsis then Maize\n",
    "            one_true_pair = [wide_format.index.item(),wide_format.columns.item()]\n",
    "            list_of_true_pairs.append(one_true_pair)\n",
    "        elif len(wide_format)>1 and len(wide_format.columns) ==1:\n",
    "            one_true_pair = [wide_format.idxmax(axis =0).item(),wide_format.columns.item()]\n",
    "            list_of_true_pairs.append(one_true_pair)\n",
    "        elif len(wide_format) == 1 and len(wide_format.columns)>1:\n",
    "            one_true_pair = [wide_format.index.item(), wide_format.idxmax(axis = 1).item()]\n",
    "            list_of_true_pairs.append(one_true_pair)\n",
    "        else:\n",
    "\n",
    "            #Drop Low Quality Columns and Rows\n",
    "            cols_to_drop = wide_format.columns[wide_format.max()<many_to_many_junk_threshold]\n",
    "            wide_format = wide_format.drop(columns= cols_to_drop)\n",
    "            rows_to_drop = wide_format.index[wide_format.max(axis = 1)<many_to_many_junk_threshold]\n",
    "            wide_format = wide_format.drop(index= rows_to_drop)\n",
    "            if (wide_format<single_pair_junk_threshold).all(axis = None):\n",
    "                continue\n",
    "            elif wide_format.shape ==(0,0):\n",
    "                continue\n",
    "            elif wide_format.shape == (1,1): # Group is 1 to 1, retain Format: Arabidopsis then Maize\n",
    "                one_true_pair = [wide_format.index.item(),wide_format.columns.item()]\n",
    "                list_of_true_pairs.append(one_true_pair)\n",
    "            elif len(wide_format)>1 and len(wide_format.columns) ==1:\n",
    "                one_true_pair = [wide_format.idxmax(axis =0).item(),wide_format.columns.item()]\n",
    "                list_of_true_pairs.append(one_true_pair)\n",
    "            elif len(wide_format) == 1 and len(wide_format.columns)>1:\n",
    "                one_true_pair = [wide_format.index.item(), wide_format.idxmax(axis = 1).item()]\n",
    "                list_of_true_pairs.append(one_true_pair)\n",
    "            elif (wide_format>.9).all(axis = None):\n",
    "                ### Put in retention code here\n",
    "                both_gene_lists_to_average = [wide_format.index.to_list(), wide_format.columns.to_list()]\n",
    "                list_of_genes_to_average_and_set_to_be_equal.append(both_gene_lists_to_average)\n",
    "                \n",
    "            else:\n",
    "                for cur_row in wide_format.iterrows():\n",
    "                    cur_row_max = cur_row[1].max()\n",
    "                    cur_row[1][cur_row[1]< cur_row_max - difference_between_many_to_drop] = np.nan\n",
    "                    wide_format.loc[cur_row[0]] = cur_row[1]\n",
    "                wide_format = wide_format.dropna(axis = 1, how = 'all')\n",
    "                for cur_col in wide_format.columns:\n",
    "                    cur_col_max = wide_format[cur_col].max()\n",
    "                    wide_format[cur_col].loc[wide_format[cur_col]< cur_col_max-difference_between_many_to_drop] = np.nan\n",
    "                wide_format = wide_format.dropna(axis = 0, how = 'all')\n",
    "                col_count = wide_format.count() == 1\n",
    "                wide_format = wide_format.loc[:,col_count]\n",
    "                row_count = wide_format.count(axis = 1) ==1 \n",
    "                wide_format = wide_format.loc[row_count,:]\n",
    "                wide_format = wide_format.dropna(axis = 1, how = 'all')\n",
    "                wide_format = wide_format.dropna(axis = 0, how = 'all')\n",
    "                for label,content in wide_format.items():\n",
    "                    cur_species_2_label = label\n",
    "                    cur_species_1_label = content.idxmax()\n",
    "                    if type(cur_species_1_label) == str:\n",
    "                        one_true_pair = [cur_species_1_label,cur_species_2_label]\n",
    "                        list_of_true_pairs.append(one_true_pair)\n",
    "\n",
    "\n",
    "    true_pair_dataframe = pd.DataFrame(columns= [f'{common_name_1} gene',f'{common_name_2} gene'], data = list_of_true_pairs)\n",
    "    true_pair_dataframe = true_pair_dataframe.drop_duplicates(subset = f'{common_name_1} gene')\n",
    "    true_pair_dataframe = true_pair_dataframe.drop_duplicates(subset = f'{common_name_2} gene')\n",
    "    \n",
    "    return true_pair_dataframe\n",
    "                "
   ]
  },
  {
   "cell_type": "code",
   "execution_count": 5,
   "metadata": {},
   "outputs": [],
   "source": [
    "matrix_of_locations = pd.read_csv('/data/passala/git/Coexpressalog_Method_Development/Cross_all_species/map_of_ortholog_map_locations.csv', index_col= 0)#List of cross species maps\n"
   ]
  },
  {
   "cell_type": "code",
   "execution_count": 16,
   "metadata": {},
   "outputs": [],
   "source": [
    "\n",
    "list_of_species = matrix_of_locations.index.to_list()\n",
    "\n",
    "combinations_to_calculate_pairwise = list(itertools.combinations(list_of_species,2))\n",
    "\n",
    "lenient_threshold = ('lenient',0.7,0.8,0.02)\n",
    "moderate_threshold = ('moderate',0.8,0.85,0.03)\n",
    "stringent_threshold = ('stringent',0.85,0.9,0.035)\n",
    "\n",
    "threshold_list = (lenient_threshold,moderate_threshold,stringent_threshold)\n",
    "\n",
    "\n"
   ]
  },
  {
   "cell_type": "code",
   "execution_count": 18,
   "metadata": {},
   "outputs": [
    {
     "data": {
      "text/plain": [
       "'brome'"
      ]
     },
     "execution_count": 18,
     "metadata": {},
     "output_type": "execute_result"
    }
   ],
   "source": [
    "species_combination[0]"
   ]
  },
  {
   "cell_type": "code",
   "execution_count": 20,
   "metadata": {},
   "outputs": [
    {
     "data": {
      "text/plain": [
       "(('lenient', 0.7, 0.8, 0.02),\n",
       " ('moderate', 0.8, 0.85, 0.03),\n",
       " ('stringent', 0.85, 0.9, 0.035))"
      ]
     },
     "execution_count": 20,
     "metadata": {},
     "output_type": "execute_result"
    }
   ],
   "source": [
    "threshold_list"
   ]
  },
  {
   "cell_type": "code",
   "execution_count": 25,
   "metadata": {},
   "outputs": [],
   "source": [
    "warnings.filterwarnings(\"ignore\")\n"
   ]
  },
  {
   "cell_type": "code",
   "execution_count": 38,
   "metadata": {},
   "outputs": [
    {
     "data": {
      "text/plain": [
       "[('potato', 'arabidopsis'),\n",
       " ('potato', 'brome'),\n",
       " ('potato', 'tomato'),\n",
       " ('arabidopsis', 'brome'),\n",
       " ('arabidopsis', 'tomato'),\n",
       " ('brome', 'tomato')]"
      ]
     },
     "execution_count": 38,
     "metadata": {},
     "output_type": "execute_result"
    }
   ],
   "source": [
    "combinations_to_calculate_pairwise[72:]"
   ]
  },
  {
   "cell_type": "code",
   "execution_count": 39,
   "metadata": {},
   "outputs": [
    {
     "name": "stdout",
     "output_type": "stream",
     "text": [
      "('potato', 'arabidopsis')\n",
      "('potato', 'brome')\n",
      "('potato', 'tomato')\n",
      "('arabidopsis', 'brome')\n",
      "('arabidopsis', 'tomato')\n",
      "('brome', 'tomato')\n"
     ]
    }
   ],
   "source": [
    "for species_combination in combinations_to_calculate_pairwise[72:]:\n",
    "    species_1,species_2 = species_combination\n",
    "    print(species_combination)\n",
    "    current_n_m_score_table = Calculate_Score_list_for_thresholding(species_1,species_2)\n",
    "\n",
    "    for threshold_tier in threshold_list:\n",
    "        name_of_threshold, one_to_one_threshold, many_many_threshold, within_group_threshold = threshold_tier\n",
    "        current_coexpressalog_frame = Threshold_and_generate_coexpressalog_list(current_n_m_score_table,single_pair_junk_threshold= one_to_one_threshold,many_to_many_junk_threshold= many_many_threshold, difference_between_many_to_drop= within_group_threshold)\n",
    "        file_name= f'{species_1}_{species_2}_{name_of_threshold}_coexpressalog_table.csv'\n",
    "        full_storage_location = f'/data/passala/Coexpressolog_paper_data/Species_species_gene_tables/{file_name}'\n",
    "        current_coexpressalog_frame.to_csv(full_storage_location,index=False)\n",
    "    "
   ]
  },
  {
   "cell_type": "code",
   "execution_count": 27,
   "metadata": {},
   "outputs": [
    {
     "name": "stdout",
     "output_type": "stream",
     "text": [
      "('grape', 'tobacco')\n"
     ]
    }
   ],
   "source": [
    "print(species_combination)"
   ]
  },
  {
   "cell_type": "code",
   "execution_count": 22,
   "metadata": {},
   "outputs": [
    {
     "data": {
      "text/plain": [
       "'/data/passala/Coexpressolog_paper_data/Species_species_gene_tables/stringent_brome_tomato_coexpressalog_table.csv'"
      ]
     },
     "execution_count": 22,
     "metadata": {},
     "output_type": "execute_result"
    }
   ],
   "source": [
    "full_storage_location"
   ]
  },
  {
   "cell_type": "code",
   "execution_count": null,
   "metadata": {},
   "outputs": [],
   "source": []
  }
 ],
 "metadata": {
  "kernelspec": {
   "display_name": "Single_cell_data_fix",
   "language": "python",
   "name": "python3"
  },
  "language_info": {
   "codemirror_mode": {
    "name": "ipython",
    "version": 3
   },
   "file_extension": ".py",
   "mimetype": "text/x-python",
   "name": "python",
   "nbconvert_exporter": "python",
   "pygments_lexer": "ipython3",
   "version": "3.9.13"
  },
  "orig_nbformat": 4,
  "vscode": {
   "interpreter": {
    "hash": "7c4a923c2782415305cc89ecc77685f7a4b95b326e3fa1d4f46287355a63668f"
   }
  }
 },
 "nbformat": 4,
 "nbformat_minor": 2
}
